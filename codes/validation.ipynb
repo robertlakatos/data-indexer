{
 "cells": [
  {
   "cell_type": "markdown",
   "metadata": {},
   "source": [
    "# Validation Pipeline"
   ]
  },
  {
   "cell_type": "markdown",
   "metadata": {},
   "source": [
    "## Import Dependecies"
   ]
  },
  {
   "cell_type": "code",
   "metadata": {},
   "source": [
    "import random\n",
    "import pandas as pd\n",
    "\n",
    "from sklearn.metrics import f1_score\n",
    "from sklearn.metrics import recall_score\n",
    "from sklearn.metrics import accuracy_score\n",
    "from sklearn.metrics import precision_score"
   ],
   "outputs": [],
   "execution_count": null
  },
  {
   "cell_type": "markdown",
   "metadata": {},
   "source": [
    "## Method(s)"
   ]
  },
  {
   "cell_type": "code",
   "metadata": {},
   "source": [
    "def calculate_mrr_from_chunks(search_results, full_answer):\n",
    "    \"\"\"\n",
    "    MRR kiszámítása a keresőmotor által visszaadott szöveges chunkokból.\n",
    "    \n",
    "    :param search_results: A szemantikus kereső által visszaadott találatok listája (chunkok).\n",
    "    :param full_answer: A teljes, helyes válasz (string).\n",
    "    :return: MRR érték.\n",
    "    \"\"\"\n",
    "    reciprocal_ranks = []\n",
    "    \n",
    "    found_relevant = False\n",
    "    for rank, chunk in enumerate(search_results, start=1):\n",
    "        # Ellenőrizzük, hogy a chunk tartalmazza-e a teljes választ (vagy annak egy részét).\n",
    "        if chunk in full_answer:\n",
    "            reciprocal_ranks.append(1 / rank)\n",
    "            found_relevant = True\n",
    "            break\n",
    "    \n",
    "    # Ha nincs releváns találat, adj hozzá 0-t\n",
    "    if not found_relevant:\n",
    "        reciprocal_ranks.append(0)\n",
    "\n",
    "    # MRR kiszámítása\n",
    "    mrr = sum(reciprocal_ranks) / len(reciprocal_ranks)\n",
    "    return mrr"
   ],
   "outputs": [],
   "execution_count": null
  },
  {
   "cell_type": "code",
   "metadata": {},
   "source": [
    "def map_found(founds, answer):\n",
    "    results = []\n",
    "    real = [1] * len(founds)\n",
    "\n",
    "    for item in founds:\n",
    "        if item in answer:\n",
    "            results.append(1)\n",
    "        else:\n",
    "            results.append(0)\n",
    "\n",
    "    acc = accuracy_score(real, results)\n",
    "    f1 = f1_score(real, results, average='weighted')\n",
    "    recall = recall_score(real, results)\n",
    "    precision = precision_score(real, results, average='weighted')\n",
    "\n",
    "    return acc, f1, recall, precision"
   ],
   "outputs": [],
   "execution_count": null
  },
  {
   "cell_type": "markdown",
   "metadata": {},
   "source": [
    "## Load Data"
   ]
  },
  {
   "cell_type": "code",
   "metadata": {},
   "source": [
    "dir_data = \"../data/\""
   ],
   "outputs": [],
   "execution_count": null
  },
  {
   "cell_type": "code",
   "metadata": {},
   "source": [
    "medquad = pd.read_json(f\"{dir_data}validations/mqdquad.json\", orient=\"records\")\n",
    "medquad.info()\n",
    "medquad.head()"
   ],
   "outputs": [],
   "execution_count": null
  },
  {
   "cell_type": "markdown",
   "metadata": {},
   "source": [
    "## Live"
   ]
  },
  {
   "cell_type": "code",
   "metadata": {},
   "source": [
    "# To Do\n",
    "# We have to check all questions and all answares from the test dataset."
   ],
   "outputs": [],
   "execution_count": null
  },
  {
   "cell_type": "markdown",
   "metadata": {},
   "source": [
    "## Demo"
   ]
  },
  {
   "cell_type": "code",
   "metadata": {},
   "source": [
    "question  = medquad[\"question\"].values[10]\n",
    "real_answer  = medquad[\"answer\"].values[10]\n",
    "fake_answer = medquad[\"answer\"].values[5] + medquad[\"answer\"].values[20]"
   ],
   "outputs": [],
   "execution_count": null
  },
  {
   "cell_type": "code",
   "metadata": {},
   "source": [
    "fake_answer_sentence = fake_answer.split(\".\")\n",
    "fake_answer_sentence = [item.strip() for item in fake_answer_sentence if len(item) > 2]\n",
    "random.seed(10)\n",
    "random.shuffle(fake_answer_sentence)\n",
    "fake_answer_sentence"
   ],
   "outputs": [],
   "execution_count": null
  },
  {
   "cell_type": "code",
   "metadata": {},
   "source": [
    "real_answer_sentence = real_answer.split(\".\")\n",
    "real_answer_sentence = [item.strip() for item in real_answer_sentence if len(item) > 2]\n",
    "random.seed(10)\n",
    "random.shuffle(real_answer_sentence)\n",
    "real_answer_sentence"
   ],
   "outputs": [],
   "execution_count": null
  },
  {
   "cell_type": "code",
   "metadata": {},
   "source": [
    "demo_found = (real_answer_sentence[:5] + fake_answer_sentence[:3])\n",
    "random.seed(22)\n",
    "random.shuffle(demo_found)\n",
    "demo_found"
   ],
   "outputs": [],
   "execution_count": null
  },
  {
   "cell_type": "code",
   "metadata": {},
   "source": [
    "acc, f1, recall, precision = map_found(demo_found, real_answer)\n",
    "\n",
    "print(\"Accuracy scores: \", acc)\n",
    "print(\"f1 scores\", f1)\n",
    "print(\"Recall scores\", recall)\n",
    "print(\"Precision scores\", precision)\n",
    "print(\"Mean Reciprocal Rank (MRR): \", calculate_mrr_from_chunks(demo_found, real_answer))"
   ],
   "outputs": [],
   "execution_count": null
  }
 ],
 "metadata": {
  "kernelspec": {
   "display_name": "NLP",
   "language": "python",
   "name": "python3"
  },
  "language_info": {
   "codemirror_mode": {
    "name": "ipython",
    "version": 3
   },
   "file_extension": ".py",
   "mimetype": "text/x-python",
   "name": "python",
   "nbconvert_exporter": "python",
   "pygments_lexer": "ipython3",
   "version": "3.11.4"
  }
 },
 "nbformat": 4,
 "nbformat_minor": 2
}
