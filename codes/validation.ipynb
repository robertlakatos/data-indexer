{
 "cells": [
  {
   "cell_type": "markdown",
   "metadata": {},
   "source": [
    "# Validation Pipeline"
   ]
  },
  {
   "cell_type": "markdown",
   "metadata": {},
   "source": [
    "## Import Dependecies"
   ]
  },
  {
   "cell_type": "code",
   "execution_count": 10,
   "metadata": {},
   "outputs": [
    {
     "name": "stderr",
     "output_type": "stream",
     "text": [
      "[nltk_data] Downloading package punkt_tab to\n",
      "[nltk_data]     C:\\Users\\opell\\AppData\\Roaming\\nltk_data...\n",
      "[nltk_data]   Package punkt_tab is already up-to-date!\n"
     ]
    }
   ],
   "source": [
    "import random\n",
    "import pandas as pd\n",
    "\n",
    "import nltk\n",
    "from nltk.tokenize import sent_tokenize\n",
    "nltk.download('punkt_tab')\n",
    "\n",
    "from sklearn.metrics import f1_score\n",
    "from sklearn.metrics import recall_score\n",
    "from sklearn.metrics import accuracy_score\n",
    "from sklearn.metrics import precision_score\n",
    "\n",
    "from llama_index.core import Settings\n",
    "from llama_index.core import StorageContext \n",
    "from llama_index.core import load_index_from_storage\n",
    "from llama_index.embeddings.huggingface import HuggingFaceEmbedding\n",
    "\n",
    "from tqdm import tqdm"
   ]
  },
  {
   "cell_type": "code",
   "execution_count": 2,
   "metadata": {},
   "outputs": [
    {
     "name": "stdout",
     "output_type": "stream",
     "text": [
      "LLM is explicitly disabled. Using MockLLM.\n"
     ]
    }
   ],
   "source": [
    "# Set LLM to None\n",
    "Settings.llm = None\n",
    "\n",
    "# Set Hugging Face embedding model for LlamaIndex\n",
    "Settings.embed_model = HuggingFaceEmbedding(model_name=\"sentence-transformers/all-MiniLM-L12-v2\")"
   ]
  },
  {
   "cell_type": "markdown",
   "metadata": {},
   "source": [
    "## Method(s)"
   ]
  },
  {
   "cell_type": "code",
   "execution_count": 3,
   "metadata": {},
   "outputs": [],
   "source": [
    "def calculate_mrr_from_chunks(search_results, full_answer):\n",
    "    \"\"\"\n",
    "    MRR kiszámítása a keresőmotor által visszaadott szöveges chunkokból.\n",
    "    \n",
    "    :param search_results: A szemantikus kereső által visszaadott találatok listája (chunkok).\n",
    "    :param full_answer: A teljes, helyes válasz (string).\n",
    "    :return: MRR érték.\n",
    "    \"\"\"\n",
    "    reciprocal_ranks = []\n",
    "    \n",
    "    found_relevant = False\n",
    "    for rank, chunk in enumerate(search_results, start=1):\n",
    "        # Ellenőrizzük, hogy a chunk tartalmazza-e a teljes választ (vagy annak egy részét).\n",
    "        if chunk in full_answer:\n",
    "            reciprocal_ranks.append(1 / rank)\n",
    "            found_relevant = True\n",
    "            break\n",
    "    \n",
    "    # Ha nincs releváns találat, adj hozzá 0-t\n",
    "    if not found_relevant:\n",
    "        reciprocal_ranks.append(0)\n",
    "\n",
    "    # MRR kiszámítása\n",
    "    mrr = sum(reciprocal_ranks) / len(reciprocal_ranks)\n",
    "    return mrr"
   ]
  },
  {
   "cell_type": "code",
   "execution_count": 4,
   "metadata": {},
   "outputs": [],
   "source": [
    "def map_found(founds, answer):\n",
    "    results = []\n",
    "    real = [1] * len(founds)\n",
    "\n",
    "    for item in founds:\n",
    "        if item in answer:\n",
    "            results.append(1)\n",
    "        else:\n",
    "            results.append(0)\n",
    "\n",
    "    acc = accuracy_score(real, results)\n",
    "    f1 = f1_score(real, results, average='weighted')\n",
    "    recall = recall_score(real, results)\n",
    "    precision = precision_score(real, results, average='weighted')\n",
    "\n",
    "    return acc, f1, recall, precision"
   ]
  },
  {
   "cell_type": "code",
   "execution_count": 5,
   "metadata": {},
   "outputs": [],
   "source": [
    "def get_response(resp):\n",
    "    return resp.split(\"\\n---------------------\\n\")[1].split(\"\\n\\n\")"
   ]
  },
  {
   "cell_type": "markdown",
   "metadata": {},
   "source": [
    "## Load Data"
   ]
  },
  {
   "cell_type": "code",
   "execution_count": 6,
   "metadata": {},
   "outputs": [],
   "source": [
    "dir_data = \"../data/\""
   ]
  },
  {
   "cell_type": "code",
   "execution_count": 7,
   "metadata": {},
   "outputs": [
    {
     "name": "stdout",
     "output_type": "stream",
     "text": [
      "<class 'pandas.core.frame.DataFrame'>\n",
      "RangeIndex: 16407 entries, 0 to 16406\n",
      "Data columns (total 2 columns):\n",
      " #   Column    Non-Null Count  Dtype \n",
      "---  ------    --------------  ----- \n",
      " 0   question  16407 non-null  object\n",
      " 1   answer    16407 non-null  object\n",
      "dtypes: object(2)\n",
      "memory usage: 256.5+ KB\n"
     ]
    },
    {
     "data": {
      "text/html": [
       "<div>\n",
       "<style scoped>\n",
       "    .dataframe tbody tr th:only-of-type {\n",
       "        vertical-align: middle;\n",
       "    }\n",
       "\n",
       "    .dataframe tbody tr th {\n",
       "        vertical-align: top;\n",
       "    }\n",
       "\n",
       "    .dataframe thead th {\n",
       "        text-align: right;\n",
       "    }\n",
       "</style>\n",
       "<table border=\"1\" class=\"dataframe\">\n",
       "  <thead>\n",
       "    <tr style=\"text-align: right;\">\n",
       "      <th></th>\n",
       "      <th>question</th>\n",
       "      <th>answer</th>\n",
       "    </tr>\n",
       "  </thead>\n",
       "  <tbody>\n",
       "    <tr>\n",
       "      <th>0</th>\n",
       "      <td>What is (are) keratoderma with woolly hair ?</td>\n",
       "      <td>Keratoderma with woolly hair is a group of rel...</td>\n",
       "    </tr>\n",
       "    <tr>\n",
       "      <th>1</th>\n",
       "      <td>How many people are affected by keratoderma wi...</td>\n",
       "      <td>Keratoderma with woolly hair is rare; its prev...</td>\n",
       "    </tr>\n",
       "    <tr>\n",
       "      <th>2</th>\n",
       "      <td>What are the genetic changes related to kerato...</td>\n",
       "      <td>Mutations in the JUP, DSP, DSC2, and KANK2 gen...</td>\n",
       "    </tr>\n",
       "    <tr>\n",
       "      <th>3</th>\n",
       "      <td>Is keratoderma with woolly hair inherited ?</td>\n",
       "      <td>Most cases of keratoderma with woolly hair hav...</td>\n",
       "    </tr>\n",
       "    <tr>\n",
       "      <th>4</th>\n",
       "      <td>What are the treatments for keratoderma with w...</td>\n",
       "      <td>These resources address the diagnosis or manag...</td>\n",
       "    </tr>\n",
       "  </tbody>\n",
       "</table>\n",
       "</div>"
      ],
      "text/plain": [
       "                                            question  \\\n",
       "0       What is (are) keratoderma with woolly hair ?   \n",
       "1  How many people are affected by keratoderma wi...   \n",
       "2  What are the genetic changes related to kerato...   \n",
       "3        Is keratoderma with woolly hair inherited ?   \n",
       "4  What are the treatments for keratoderma with w...   \n",
       "\n",
       "                                              answer  \n",
       "0  Keratoderma with woolly hair is a group of rel...  \n",
       "1  Keratoderma with woolly hair is rare; its prev...  \n",
       "2  Mutations in the JUP, DSP, DSC2, and KANK2 gen...  \n",
       "3  Most cases of keratoderma with woolly hair hav...  \n",
       "4  These resources address the diagnosis or manag...  "
      ]
     },
     "execution_count": 7,
     "metadata": {},
     "output_type": "execute_result"
    }
   ],
   "source": [
    "medquad = pd.read_json(f\"{dir_data}validations/mqdquad.json\", orient=\"records\")\n",
    "medquad.info()\n",
    "medquad.head()"
   ]
  },
  {
   "cell_type": "markdown",
   "metadata": {},
   "source": [
    "## Live"
   ]
  },
  {
   "cell_type": "code",
   "execution_count": 11,
   "metadata": {},
   "outputs": [
    {
     "data": {
      "text/plain": [
       "['Keratoderma with woolly hair is a group of related conditions that affect the skin and hair and in many cases increase the risk of potentially life-threatening heart problems.',\n",
       " 'People with these conditions have hair that is unusually coarse, dry, fine, and tightly curled.',\n",
       " 'In some cases, the hair is also sparse.',\n",
       " 'The woolly hair texture typically affects only scalp hair and is present from birth.',\n",
       " 'Starting early in life, affected individuals also develop palmoplantar keratoderma, a condition that causes skin on the palms of the hands and the soles of the feet to become thick, scaly, and calloused.',\n",
       " 'Cardiomyopathy, which is a disease of the heart muscle, is a life-threatening health problem that can develop in people with keratoderma with woolly hair.',\n",
       " 'Unlike the other features of this condition, signs and symptoms of cardiomyopathy may not appear until adolescence or later.',\n",
       " 'Complications of cardiomyopathy can include an abnormal heartbeat (arrhythmia), heart failure, and sudden death.',\n",
       " 'Keratoderma with woolly hair comprises several related conditions with overlapping signs and symptoms.',\n",
       " 'Researchers have recently proposed classifying keratoderma with woolly hair into four types, based on the underlying genetic cause.',\n",
       " 'Type I, also known as Naxos disease, is characterized by palmoplantar keratoderma, woolly hair, and a form of cardiomyopathy called arrhythmogenic right ventricular cardiomyopathy (ARVC).',\n",
       " 'Type II, also known as Carvajal syndrome, has hair and skin abnormalities similar to type I but features a different form of cardiomyopathy, called dilated left ventricular cardiomyopathy.',\n",
       " 'Type III also has signs and symptoms similar to those of type I, including ARVC, although the hair and skin abnormalities are often milder.',\n",
       " 'Type IV is characterized by palmoplantar keratoderma and woolly and sparse hair, as well as abnormal fingernails and toenails.',\n",
       " 'Type IV does not appear to cause cardiomyopathy.']"
      ]
     },
     "execution_count": 11,
     "metadata": {},
     "output_type": "execute_result"
    }
   ],
   "source": []
  },
  {
   "cell_type": "markdown",
   "metadata": {},
   "source": [
    "### Sentence Based"
   ]
  },
  {
   "cell_type": "code",
   "execution_count": 16,
   "metadata": {},
   "outputs": [],
   "source": [
    "storage_context_sb = StorageContext.from_defaults(persist_dir=\"../data/vectors/sentence_based\")\n",
    "index_sb = load_index_from_storage(storage_context_sb)\n",
    "query_engine_sb = index_sb.as_query_engine(similarity_top_k=1)"
   ]
  },
  {
   "cell_type": "code",
   "execution_count": 17,
   "metadata": {},
   "outputs": [
    {
     "data": {
      "text/plain": [
       "['Keratoderma with woolly hair is a group of related conditions that affect the skin and hair and in many cases increase the risk of potentially life-threatening heart problems.']"
      ]
     },
     "execution_count": 17,
     "metadata": {},
     "output_type": "execute_result"
    }
   ],
   "source": [
    "resps = get_response(query_engine_sb.query(medquad[\"question\"].values[0]).response)\n",
    "resps"
   ]
  },
  {
   "cell_type": "code",
   "execution_count": 15,
   "metadata": {},
   "outputs": [
    {
     "data": {
      "text/plain": [
       "(0.4, 0.5714285714285715, 0.4, 1.0)"
      ]
     },
     "execution_count": 15,
     "metadata": {},
     "output_type": "execute_result"
    }
   ],
   "source": [
    "map_found(resps, sent_tokenize(medquad[\"answer\"].values[0]))"
   ]
  },
  {
   "cell_type": "markdown",
   "metadata": {},
   "source": [
    "## Demo"
   ]
  },
  {
   "cell_type": "code",
   "execution_count": null,
   "metadata": {},
   "outputs": [],
   "source": [
    "question  = medquad[\"question\"].values[10]\n",
    "real_answer  = medquad[\"answer\"].values[10]\n",
    "fake_answer = medquad[\"answer\"].values[5] + medquad[\"answer\"].values[20]"
   ]
  },
  {
   "cell_type": "code",
   "execution_count": null,
   "metadata": {},
   "outputs": [],
   "source": [
    "fake_answer_sentence = fake_answer.split(\".\")\n",
    "fake_answer_sentence = [item.strip() for item in fake_answer_sentence if len(item) > 2]\n",
    "random.seed(10)\n",
    "random.shuffle(fake_answer_sentence)\n",
    "fake_answer_sentence"
   ]
  },
  {
   "cell_type": "code",
   "execution_count": null,
   "metadata": {},
   "outputs": [],
   "source": [
    "real_answer_sentence = real_answer.split(\".\")\n",
    "real_answer_sentence = [item.strip() for item in real_answer_sentence if len(item) > 2]\n",
    "random.seed(10)\n",
    "random.shuffle(real_answer_sentence)\n",
    "real_answer_sentence"
   ]
  },
  {
   "cell_type": "code",
   "execution_count": null,
   "metadata": {},
   "outputs": [],
   "source": [
    "demo_found = (real_answer_sentence[:5] + fake_answer_sentence[:3])\n",
    "random.seed(22)\n",
    "random.shuffle(demo_found)\n",
    "demo_found"
   ]
  },
  {
   "cell_type": "code",
   "execution_count": null,
   "metadata": {},
   "outputs": [],
   "source": [
    "acc, f1, recall, precision = map_found(demo_found, real_answer)\n",
    "\n",
    "print(\"Accuracy scores: \", acc)\n",
    "print(\"f1 scores\", f1)\n",
    "print(\"Recall scores\", recall)\n",
    "print(\"Precision scores\", precision)\n",
    "print(\"Mean Reciprocal Rank (MRR): \", calculate_mrr_from_chunks(demo_found, real_answer))"
   ]
  }
 ],
 "metadata": {
  "kernelspec": {
   "display_name": "nlp",
   "language": "python",
   "name": "nlp"
  },
  "language_info": {
   "codemirror_mode": {
    "name": "ipython",
    "version": 3
   },
   "file_extension": ".py",
   "mimetype": "text/x-python",
   "name": "python",
   "nbconvert_exporter": "python",
   "pygments_lexer": "ipython3",
   "version": "3.11.4"
  }
 },
 "nbformat": 4,
 "nbformat_minor": 2
}
