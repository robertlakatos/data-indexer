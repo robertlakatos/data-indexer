{
 "cells": [
  {
   "cell_type": "markdown",
   "metadata": {},
   "source": [
    "# Validation Pipeline"
   ]
  },
  {
   "cell_type": "markdown",
   "metadata": {},
   "source": [
    "## Import Dependecies"
   ]
  },
  {
   "cell_type": "code",
   "execution_count": 22,
   "metadata": {},
   "outputs": [],
   "source": [
    "import random\n",
    "import pandas as pd\n",
    "\n",
    "from sklearn.metrics import f1_score\n",
    "from sklearn.metrics import recall_score\n",
    "from sklearn.metrics import accuracy_score\n",
    "from sklearn.metrics import precision_score"
   ]
  },
  {
   "cell_type": "markdown",
   "metadata": {},
   "source": [
    "## Method(s)"
   ]
  },
  {
   "cell_type": "code",
   "execution_count": 51,
   "metadata": {},
   "outputs": [],
   "source": [
    "def calculate_mrr_from_chunks(search_results, full_answer):\n",
    "    \"\"\"\n",
    "    MRR kiszámítása a keresőmotor által visszaadott szöveges chunkokból.\n",
    "    \n",
    "    :param search_results: A szemantikus kereső által visszaadott találatok listája (chunkok).\n",
    "    :param full_answer: A teljes, helyes válasz (string).\n",
    "    :return: MRR érték.\n",
    "    \"\"\"\n",
    "    reciprocal_ranks = []\n",
    "    \n",
    "    found_relevant = False\n",
    "    for rank, chunk in enumerate(search_results, start=1):\n",
    "        # Ellenőrizzük, hogy a chunk tartalmazza-e a teljes választ (vagy annak egy részét).\n",
    "        if chunk in full_answer:\n",
    "            reciprocal_ranks.append(1 / rank)\n",
    "            found_relevant = True\n",
    "            break\n",
    "    \n",
    "    # Ha nincs releváns találat, adj hozzá 0-t\n",
    "    if not found_relevant:\n",
    "        reciprocal_ranks.append(0)\n",
    "\n",
    "    # MRR kiszámítása\n",
    "    mrr = sum(reciprocal_ranks) / len(reciprocal_ranks)\n",
    "    return mrr"
   ]
  },
  {
   "cell_type": "code",
   "execution_count": null,
   "metadata": {},
   "outputs": [],
   "source": [
    "def map_found(founds, answer):\n",
    "    results = []\n",
    "    real = [1] * len(founds)\n",
    "\n",
    "    for item in founds:\n",
    "        if item in answer:\n",
    "            results.append(1)\n",
    "        else:\n",
    "            results.append(0)\n",
    "\n",
    "    acc = accuracy_score(real, results)\n",
    "    f1 = f1_score(real, results, average='weighted')\n",
    "    recall = recall_score(real, results)\n",
    "    precision = precision_score(real, results, average='weighted')\n",
    "\n",
    "    return acc, f1, recall, precision"
   ]
  },
  {
   "cell_type": "markdown",
   "metadata": {},
   "source": [
    "## Load Data"
   ]
  },
  {
   "cell_type": "code",
   "execution_count": 2,
   "metadata": {},
   "outputs": [],
   "source": [
    "dir_data = \"../data/\""
   ]
  },
  {
   "cell_type": "code",
   "execution_count": 3,
   "metadata": {},
   "outputs": [
    {
     "name": "stdout",
     "output_type": "stream",
     "text": [
      "<class 'pandas.core.frame.DataFrame'>\n",
      "RangeIndex: 16407 entries, 0 to 16406\n",
      "Data columns (total 2 columns):\n",
      " #   Column    Non-Null Count  Dtype \n",
      "---  ------    --------------  ----- \n",
      " 0   question  16407 non-null  object\n",
      " 1   answer    16407 non-null  object\n",
      "dtypes: object(2)\n",
      "memory usage: 256.5+ KB\n"
     ]
    },
    {
     "data": {
      "text/html": [
       "<div>\n",
       "<style scoped>\n",
       "    .dataframe tbody tr th:only-of-type {\n",
       "        vertical-align: middle;\n",
       "    }\n",
       "\n",
       "    .dataframe tbody tr th {\n",
       "        vertical-align: top;\n",
       "    }\n",
       "\n",
       "    .dataframe thead th {\n",
       "        text-align: right;\n",
       "    }\n",
       "</style>\n",
       "<table border=\"1\" class=\"dataframe\">\n",
       "  <thead>\n",
       "    <tr style=\"text-align: right;\">\n",
       "      <th></th>\n",
       "      <th>question</th>\n",
       "      <th>answer</th>\n",
       "    </tr>\n",
       "  </thead>\n",
       "  <tbody>\n",
       "    <tr>\n",
       "      <th>0</th>\n",
       "      <td>What is (are) keratoderma with woolly hair ?</td>\n",
       "      <td>Keratoderma with woolly hair is a group of rel...</td>\n",
       "    </tr>\n",
       "    <tr>\n",
       "      <th>1</th>\n",
       "      <td>How many people are affected by keratoderma wi...</td>\n",
       "      <td>Keratoderma with woolly hair is rare; its prev...</td>\n",
       "    </tr>\n",
       "    <tr>\n",
       "      <th>2</th>\n",
       "      <td>What are the genetic changes related to kerato...</td>\n",
       "      <td>Mutations in the JUP, DSP, DSC2, and KANK2 gen...</td>\n",
       "    </tr>\n",
       "    <tr>\n",
       "      <th>3</th>\n",
       "      <td>Is keratoderma with woolly hair inherited ?</td>\n",
       "      <td>Most cases of keratoderma with woolly hair hav...</td>\n",
       "    </tr>\n",
       "    <tr>\n",
       "      <th>4</th>\n",
       "      <td>What are the treatments for keratoderma with w...</td>\n",
       "      <td>These resources address the diagnosis or manag...</td>\n",
       "    </tr>\n",
       "  </tbody>\n",
       "</table>\n",
       "</div>"
      ],
      "text/plain": [
       "                                            question  \\\n",
       "0       What is (are) keratoderma with woolly hair ?   \n",
       "1  How many people are affected by keratoderma wi...   \n",
       "2  What are the genetic changes related to kerato...   \n",
       "3        Is keratoderma with woolly hair inherited ?   \n",
       "4  What are the treatments for keratoderma with w...   \n",
       "\n",
       "                                              answer  \n",
       "0  Keratoderma with woolly hair is a group of rel...  \n",
       "1  Keratoderma with woolly hair is rare; its prev...  \n",
       "2  Mutations in the JUP, DSP, DSC2, and KANK2 gen...  \n",
       "3  Most cases of keratoderma with woolly hair hav...  \n",
       "4  These resources address the diagnosis or manag...  "
      ]
     },
     "execution_count": 3,
     "metadata": {},
     "output_type": "execute_result"
    }
   ],
   "source": [
    "medquad = pd.read_json(f\"{dir_data}validations/mqdquad.json\", orient=\"records\")\n",
    "medquad.info()\n",
    "medquad.head()"
   ]
  },
  {
   "cell_type": "markdown",
   "metadata": {},
   "source": [
    "## Live"
   ]
  },
  {
   "cell_type": "code",
   "execution_count": null,
   "metadata": {},
   "outputs": [],
   "source": [
    "# To Do\n",
    "# We have to check all questions and all answares from the test dataset."
   ]
  },
  {
   "cell_type": "markdown",
   "metadata": {},
   "source": [
    "## Demo"
   ]
  },
  {
   "cell_type": "code",
   "execution_count": 10,
   "metadata": {},
   "outputs": [],
   "source": [
    "question  = medquad[\"question\"].values[10]\n",
    "real_answer  = medquad[\"answer\"].values[10]\n",
    "fake_answer = medquad[\"answer\"].values[5] + medquad[\"answer\"].values[20]"
   ]
  },
  {
   "cell_type": "code",
   "execution_count": 13,
   "metadata": {},
   "outputs": [
    {
     "data": {
      "text/plain": [
       "['Restless leg syndrome is a condition characterized by numbness or tingling in the legs accompanied by an urge to move the legs to stop the sensations',\n",
       " 'Most affected individuals have vitreoretinal degeneration, which is breakdown (degeneration) of two structures in the eye called the vitreous and the retina',\n",
       " 'Another characteristic feature of Knobloch syndrome is a skull defect called an occipital encephalocele, which is a sac-like protrusion of the brain (encephalocele) through a defect in the bone at the base of the skull (occipital bone)',\n",
       " 'REM sleep behavior disorder is a condition in which the muscles are active during the dream (REM) stage of sleep, so an affected person often acts out his or her dreams',\n",
       " 'In other conditions, encephaloceles may be associated with intellectual disability; however, most people with Knobloch syndrome have normal intelligence',\n",
       " 'People with SCA3 eventually require wheelchair assistance',\n",
       " 'Spinocerebellar ataxia type 3 (SCA3) is a condition characterized by progressive problems with movement',\n",
       " 'Vitreoretinal degeneration often leads to separation of the retina from the back of the eye (retinal detachment)',\n",
       " 'The macula is responsible for sharp central vision, which is needed for detailed tasks such as reading, driving, and recognizing faces',\n",
       " 'Due to abnormalities in the vitreous, retina, and macula, people with Knobloch syndrome often develop blindness in one or both eyes',\n",
       " 'Over time, individuals with SCA3 may develop loss of sensation and weakness in the limbs (peripheral neuropathy), muscle cramps, muscle twitches (fasciculations), and swallowing difficulties',\n",
       " 'In addition, several other eye abnormalities are common in people with this condition',\n",
       " 'Some affected individuals have been diagnosed with a different skull defect in the occipital region, and it is unclear whether the defect is always a true encephalocele',\n",
       " 'The vitreous is the gelatin-like substance that fills the eye, and the retina is the light-sensitive tissue at the back of the eye',\n",
       " 'Signs and symptoms of the disorder typically begin in mid-adulthood but can appear anytime from childhood to late adulthood',\n",
       " 'Individuals with SCA3 may have problems with memory, planning, and problem solving',\n",
       " 'Other early signs and symptoms of SCA3 include speech difficulties, uncontrolled muscle tensing (dystonia), muscle stiffness (spasticity), rigidity, tremors, bulging eyes, and double vision',\n",
       " 'Affected individuals may also have abnormalities in the central area of the retina, called the macula',\n",
       " 'Knobloch syndrome is a rare condition characterized by severe vision problems and a skull defect',\n",
       " 'They usually survive 10 to 20 years after symptoms first appear',\n",
       " 'People with this condition may experience sleep disorders such as restless leg syndrome or REM sleep behavior disorder',\n",
       " 'People with this condition initially experience problems with coordination and balance (ataxia)',\n",
       " 'A characteristic feature of Knobloch syndrome is extreme nearsightedness (high myopia)',\n",
       " 'These sleep disorders tend to leave affected individuals feeling tired during the day']"
      ]
     },
     "execution_count": 13,
     "metadata": {},
     "output_type": "execute_result"
    }
   ],
   "source": [
    "fake_answer_sentence = fake_answer.split(\".\")\n",
    "fake_answer_sentence = [item.strip() for item in fake_answer_sentence if len(item) > 2]\n",
    "random.seed(10)\n",
    "random.shuffle(fake_answer_sentence)\n",
    "fake_answer_sentence"
   ]
  },
  {
   "cell_type": "code",
   "execution_count": 16,
   "metadata": {},
   "outputs": [
    {
     "data": {
      "text/plain": [
       "['Large retinal colobomas or those affecting the optic nerve can cause low vision, which means vision loss that cannot be completely corrected with glasses or contact lenses',\n",
       " 'Colobomas involving the eyeball should be distinguished from gaps that occur in the eyelids',\n",
       " 'Colobomas involving the retina result in vision loss in specific parts of the visual field, generally the upper part',\n",
       " 'Such severe microphthalmia should be distinguished from another condition called anophthalmia, in which no eyeball forms at all',\n",
       " 'In this condition, one or both eyeballs are abnormally small',\n",
       " 'Microphthalmia may or may not result in significant vision loss',\n",
       " 'Some individuals have coloboma as part of a syndrome that affects other organs and tissues in the body',\n",
       " 'When coloboma occurs by itself, it is described as nonsyndromic or isolated',\n",
       " 'They may appear as notches or gaps in one of several parts of the eye, including the colored part of the eye called the iris; the retina, which is the specialized light-sensitive tissue that lines the back of the eye; the blood vessel layer under the retina called the choroid; or the optic nerves, which carry information from the eyes to the brain',\n",
       " 'Colobomas affecting the iris, which result in a \"keyhole\" appearance of the pupil, generally do not lead to vision loss',\n",
       " 'However, the terms anophthalmia and severe microphthalmia are often used interchangeably',\n",
       " 'Some people with coloboma also have a condition called microphthalmia',\n",
       " \"Colobomas may be present in one or both eyes and, depending on their size and location, can affect a person's vision\",\n",
       " 'Coloboma is an eye abnormality that occurs before birth',\n",
       " 'In some affected individuals, the eyeball may appear to be completely missing; however, even in these cases some remaining eye tissue is generally present',\n",
       " 'These forms of the condition are described as syndromic',\n",
       " 'People with coloboma may also have other eye abnormalities, including clouding of the lens of the eye (cataract), increased pressure inside the eye (glaucoma) that can damage the optic nerve, vision problems such as nearsightedness (myopia), involuntary back-and-forth eye movements (nystagmus), or separation of the retina from the back of the eye (retinal detachment)',\n",
       " 'Colobomas are missing pieces of tissue in structures that form the eye',\n",
       " 'While these eyelid gaps are also called colobomas, they arise from abnormalities in different structures during early development']"
      ]
     },
     "execution_count": 16,
     "metadata": {},
     "output_type": "execute_result"
    }
   ],
   "source": [
    "real_answer_sentence = real_answer.split(\".\")\n",
    "real_answer_sentence = [item.strip() for item in real_answer_sentence if len(item) > 2]\n",
    "random.seed(10)\n",
    "random.shuffle(real_answer_sentence)\n",
    "real_answer_sentence"
   ]
  },
  {
   "cell_type": "code",
   "execution_count": 47,
   "metadata": {},
   "outputs": [
    {
     "data": {
      "text/plain": [
       "['Most affected individuals have vitreoretinal degeneration, which is breakdown (degeneration) of two structures in the eye called the vitreous and the retina',\n",
       " 'Another characteristic feature of Knobloch syndrome is a skull defect called an occipital encephalocele, which is a sac-like protrusion of the brain (encephalocele) through a defect in the bone at the base of the skull (occipital bone)',\n",
       " 'Restless leg syndrome is a condition characterized by numbness or tingling in the legs accompanied by an urge to move the legs to stop the sensations',\n",
       " 'Such severe microphthalmia should be distinguished from another condition called anophthalmia, in which no eyeball forms at all',\n",
       " 'In this condition, one or both eyeballs are abnormally small',\n",
       " 'Large retinal colobomas or those affecting the optic nerve can cause low vision, which means vision loss that cannot be completely corrected with glasses or contact lenses',\n",
       " 'Colobomas involving the eyeball should be distinguished from gaps that occur in the eyelids',\n",
       " 'Colobomas involving the retina result in vision loss in specific parts of the visual field, generally the upper part']"
      ]
     },
     "execution_count": 47,
     "metadata": {},
     "output_type": "execute_result"
    }
   ],
   "source": [
    "demo_found = (real_answer_sentence[:5] + fake_answer_sentence[:3])\n",
    "random.seed(22)\n",
    "random.shuffle(demo_found)\n",
    "demo_found"
   ]
  },
  {
   "cell_type": "code",
   "execution_count": 55,
   "metadata": {},
   "outputs": [
    {
     "name": "stdout",
     "output_type": "stream",
     "text": [
      "Accuracy scores:  0.625\n",
      "f1 scores 0.7692307692307693\n",
      "Recall scores 0.625\n",
      "Precision scores 1.0\n",
      "Mean Reciprocal Rank (MRR):  0.25\n"
     ]
    }
   ],
   "source": [
    "acc, f1, recall, precision = map_found(demo_found, real_answer)\n",
    "\n",
    "print(\"Accuracy scores: \", acc)\n",
    "print(\"f1 scores\", f1)\n",
    "print(\"Recall scores\", recall)\n",
    "print(\"Precision scores\", precision)\n",
    "print(\"Mean Reciprocal Rank (MRR): \", calculate_mrr_from_chunks(demo_found, real_answer))"
   ]
  }
 ],
 "metadata": {
  "kernelspec": {
   "display_name": "NLP",
   "language": "python",
   "name": "python3"
  },
  "language_info": {
   "codemirror_mode": {
    "name": "ipython",
    "version": 3
   },
   "file_extension": ".py",
   "mimetype": "text/x-python",
   "name": "python",
   "nbconvert_exporter": "python",
   "pygments_lexer": "ipython3",
   "version": "3.11.4"
  }
 },
 "nbformat": 4,
 "nbformat_minor": 2
}
