{
 "cells": [
  {
   "cell_type": "markdown",
   "metadata": {},
   "source": [
    "# Validation Pipeline"
   ]
  },
  {
   "cell_type": "markdown",
   "metadata": {},
   "source": [
    "## Import Dependecies"
   ]
  },
  {
   "cell_type": "code",
   "execution_count": 1,
   "metadata": {},
   "outputs": [
    {
     "name": "stderr",
     "output_type": "stream",
     "text": [
      "[nltk_data] Downloading package punkt_tab to\n",
      "[nltk_data]     C:\\Users\\solym\\AppData\\Roaming\\nltk_data...\n",
      "[nltk_data]   Package punkt_tab is already up-to-date!\n",
      "C:\\Users\\solym\\AppData\\Local\\Packages\\PythonSoftwareFoundation.Python.3.11_qbz5n2kfra8p0\\LocalCache\\local-packages\\Python311\\site-packages\\tqdm\\auto.py:21: TqdmWarning: IProgress not found. Please update jupyter and ipywidgets. See https://ipywidgets.readthedocs.io/en/stable/user_install.html\n",
      "  from .autonotebook import tqdm as notebook_tqdm\n"
     ]
    }
   ],
   "source": [
    "import random\n",
    "import pandas as pd\n",
    "\n",
    "import nltk\n",
    "from nltk.tokenize import sent_tokenize\n",
    "nltk.download('punkt_tab')\n",
    "\n",
    "from sklearn.metrics import f1_score\n",
    "from sklearn.metrics import recall_score\n",
    "from sklearn.metrics import accuracy_score\n",
    "from sklearn.metrics import precision_score\n",
    "\n",
    "from llama_index.core import Settings, Document\n",
    "from llama_index.core import StorageContext \n",
    "from llama_index.core import load_index_from_storage\n",
    "from llama_index.embeddings.huggingface import HuggingFaceEmbedding\n",
    "\n",
    "from tqdm import tqdm\n",
    "\n",
    "from transformers import AutoTokenizer\n",
    "\n",
    "import answer_tokenizer as at\n",
    "\n",
    "import matplotlib.pyplot as plt"
   ]
  },
  {
   "cell_type": "code",
   "execution_count": 2,
   "metadata": {},
   "outputs": [
    {
     "name": "stdout",
     "output_type": "stream",
     "text": [
      "LLM is explicitly disabled. Using MockLLM.\n"
     ]
    }
   ],
   "source": [
    "Settings.llm = None\n",
    "\n",
    "# Set Hugging Face embedding model for LlamaIndex\n",
    "Settings.embed_model = HuggingFaceEmbedding(model_name=\"sentence-transformers/all-MiniLM-L12-v2\")\n",
    "\n",
    "# Hugging Face tokenizer setup\n",
    "tokenizer = AutoTokenizer.from_pretrained('bert-base-uncased')"
   ]
  },
  {
   "cell_type": "markdown",
   "metadata": {},
   "source": [
    "## Method(s)"
   ]
  },
  {
   "cell_type": "code",
   "execution_count": 3,
   "metadata": {},
   "outputs": [],
   "source": [
    "def map_found(founds, answer):\n",
    "    # Készítsünk egy uniót a két listából, hogy megkapjuk az összes egyedi mondatot\n",
    "    all_sentences = list(set(founds + answer))\n",
    "\n",
    "    # Bináris címkézés az átfedésekhez\n",
    "    y_true = [1 if sentence in founds else 0 for sentence in all_sentences]\n",
    "    y_pred = [1 if sentence in answer else 0 for sentence in all_sentences]\n",
    "\n",
    "    # Kiértékelés: accuracy, precision, recall, f1 score\n",
    "    accuracy = accuracy_score(y_true, y_pred)\n",
    "    f1 = f1_score(y_true, y_pred, average='weighted')\n",
    "    recall = recall_score(y_true, y_pred)\n",
    "    precision = precision_score(y_true, y_pred, average='weighted')\n",
    "\n",
    "    return accuracy, f1, recall, precision"
   ]
  },
  {
   "cell_type": "code",
   "execution_count": 4,
   "metadata": {},
   "outputs": [],
   "source": [
    "def get_response(resp):\n",
    "    return resp.split(\"\\n---------------------\\n\")[1].split(\"\\n\\n\")"
   ]
  },
  {
   "cell_type": "markdown",
   "metadata": {},
   "source": [
    "## Load Data"
   ]
  },
  {
   "cell_type": "code",
   "execution_count": 5,
   "metadata": {},
   "outputs": [],
   "source": [
    "dir_data = \"../data/\""
   ]
  },
  {
   "cell_type": "code",
   "execution_count": 6,
   "metadata": {},
   "outputs": [
    {
     "name": "stdout",
     "output_type": "stream",
     "text": [
      "<class 'pandas.core.frame.DataFrame'>\n",
      "RangeIndex: 16407 entries, 0 to 16406\n",
      "Data columns (total 2 columns):\n",
      " #   Column    Non-Null Count  Dtype \n",
      "---  ------    --------------  ----- \n",
      " 0   question  16407 non-null  object\n",
      " 1   answer    16407 non-null  object\n",
      "dtypes: object(2)\n",
      "memory usage: 256.5+ KB\n"
     ]
    },
    {
     "data": {
      "text/html": [
       "<div>\n",
       "<style scoped>\n",
       "    .dataframe tbody tr th:only-of-type {\n",
       "        vertical-align: middle;\n",
       "    }\n",
       "\n",
       "    .dataframe tbody tr th {\n",
       "        vertical-align: top;\n",
       "    }\n",
       "\n",
       "    .dataframe thead th {\n",
       "        text-align: right;\n",
       "    }\n",
       "</style>\n",
       "<table border=\"1\" class=\"dataframe\">\n",
       "  <thead>\n",
       "    <tr style=\"text-align: right;\">\n",
       "      <th></th>\n",
       "      <th>question</th>\n",
       "      <th>answer</th>\n",
       "    </tr>\n",
       "  </thead>\n",
       "  <tbody>\n",
       "    <tr>\n",
       "      <th>0</th>\n",
       "      <td>What is (are) keratoderma with woolly hair ?</td>\n",
       "      <td>Keratoderma with woolly hair is a group of rel...</td>\n",
       "    </tr>\n",
       "    <tr>\n",
       "      <th>1</th>\n",
       "      <td>How many people are affected by keratoderma wi...</td>\n",
       "      <td>Keratoderma with woolly hair is rare; its prev...</td>\n",
       "    </tr>\n",
       "    <tr>\n",
       "      <th>2</th>\n",
       "      <td>What are the genetic changes related to kerato...</td>\n",
       "      <td>Mutations in the JUP, DSP, DSC2, and KANK2 gen...</td>\n",
       "    </tr>\n",
       "    <tr>\n",
       "      <th>3</th>\n",
       "      <td>Is keratoderma with woolly hair inherited ?</td>\n",
       "      <td>Most cases of keratoderma with woolly hair hav...</td>\n",
       "    </tr>\n",
       "    <tr>\n",
       "      <th>4</th>\n",
       "      <td>What are the treatments for keratoderma with w...</td>\n",
       "      <td>These resources address the diagnosis or manag...</td>\n",
       "    </tr>\n",
       "    <tr>\n",
       "      <th>5</th>\n",
       "      <td>What is (are) Knobloch syndrome ?</td>\n",
       "      <td>Knobloch syndrome is a rare condition characte...</td>\n",
       "    </tr>\n",
       "    <tr>\n",
       "      <th>6</th>\n",
       "      <td>How many people are affected by Knobloch syndr...</td>\n",
       "      <td>Knobloch syndrome is a rare condition. However...</td>\n",
       "    </tr>\n",
       "    <tr>\n",
       "      <th>7</th>\n",
       "      <td>What are the genetic changes related to Knoblo...</td>\n",
       "      <td>Mutations in the COL18A1 gene can cause Knoblo...</td>\n",
       "    </tr>\n",
       "    <tr>\n",
       "      <th>8</th>\n",
       "      <td>Is Knobloch syndrome inherited ?</td>\n",
       "      <td>This condition is inherited in an autosomal re...</td>\n",
       "    </tr>\n",
       "    <tr>\n",
       "      <th>9</th>\n",
       "      <td>What are the treatments for Knobloch syndrome ?</td>\n",
       "      <td>These resources address the diagnosis or manag...</td>\n",
       "    </tr>\n",
       "  </tbody>\n",
       "</table>\n",
       "</div>"
      ],
      "text/plain": [
       "                                            question  \\\n",
       "0       What is (are) keratoderma with woolly hair ?   \n",
       "1  How many people are affected by keratoderma wi...   \n",
       "2  What are the genetic changes related to kerato...   \n",
       "3        Is keratoderma with woolly hair inherited ?   \n",
       "4  What are the treatments for keratoderma with w...   \n",
       "5                  What is (are) Knobloch syndrome ?   \n",
       "6  How many people are affected by Knobloch syndr...   \n",
       "7  What are the genetic changes related to Knoblo...   \n",
       "8                   Is Knobloch syndrome inherited ?   \n",
       "9    What are the treatments for Knobloch syndrome ?   \n",
       "\n",
       "                                              answer  \n",
       "0  Keratoderma with woolly hair is a group of rel...  \n",
       "1  Keratoderma with woolly hair is rare; its prev...  \n",
       "2  Mutations in the JUP, DSP, DSC2, and KANK2 gen...  \n",
       "3  Most cases of keratoderma with woolly hair hav...  \n",
       "4  These resources address the diagnosis or manag...  \n",
       "5  Knobloch syndrome is a rare condition characte...  \n",
       "6  Knobloch syndrome is a rare condition. However...  \n",
       "7  Mutations in the COL18A1 gene can cause Knoblo...  \n",
       "8  This condition is inherited in an autosomal re...  \n",
       "9  These resources address the diagnosis or manag...  "
      ]
     },
     "execution_count": 6,
     "metadata": {},
     "output_type": "execute_result"
    }
   ],
   "source": [
    "medquad = pd.read_json(f\"{dir_data}validations/mqdquad.json\", orient=\"records\")\n",
    "medquad.info()\n",
    "medquad.head(10)"
   ]
  },
  {
   "cell_type": "code",
   "execution_count": 7,
   "metadata": {},
   "outputs": [
    {
     "name": "stdout",
     "output_type": "stream",
     "text": [
      "<class 'pandas.core.frame.DataFrame'>\n",
      "RangeIndex: 1000 entries, 0 to 999\n",
      "Data columns (total 2 columns):\n",
      " #   Column    Non-Null Count  Dtype \n",
      "---  ------    --------------  ----- \n",
      " 0   question  1000 non-null   object\n",
      " 1   answer    1000 non-null   object\n",
      "dtypes: object(2)\n",
      "memory usage: 15.8+ KB\n"
     ]
    },
    {
     "data": {
      "text/html": [
       "<div>\n",
       "<style scoped>\n",
       "    .dataframe tbody tr th:only-of-type {\n",
       "        vertical-align: middle;\n",
       "    }\n",
       "\n",
       "    .dataframe tbody tr th {\n",
       "        vertical-align: top;\n",
       "    }\n",
       "\n",
       "    .dataframe thead th {\n",
       "        text-align: right;\n",
       "    }\n",
       "</style>\n",
       "<table border=\"1\" class=\"dataframe\">\n",
       "  <thead>\n",
       "    <tr style=\"text-align: right;\">\n",
       "      <th></th>\n",
       "      <th>question</th>\n",
       "      <th>answer</th>\n",
       "    </tr>\n",
       "  </thead>\n",
       "  <tbody>\n",
       "    <tr>\n",
       "      <th>0</th>\n",
       "      <td>What is (are) keratoderma with woolly hair ?</td>\n",
       "      <td>Keratoderma with woolly hair is a group of rel...</td>\n",
       "    </tr>\n",
       "    <tr>\n",
       "      <th>1</th>\n",
       "      <td>How many people are affected by keratoderma wi...</td>\n",
       "      <td>Keratoderma with woolly hair is rare; its prev...</td>\n",
       "    </tr>\n",
       "    <tr>\n",
       "      <th>2</th>\n",
       "      <td>What are the genetic changes related to kerato...</td>\n",
       "      <td>Mutations in the JUP, DSP, DSC2, and KANK2 gen...</td>\n",
       "    </tr>\n",
       "    <tr>\n",
       "      <th>3</th>\n",
       "      <td>Is keratoderma with woolly hair inherited ?</td>\n",
       "      <td>Most cases of keratoderma with woolly hair hav...</td>\n",
       "    </tr>\n",
       "    <tr>\n",
       "      <th>4</th>\n",
       "      <td>What are the treatments for keratoderma with w...</td>\n",
       "      <td>These resources address the diagnosis or manag...</td>\n",
       "    </tr>\n",
       "    <tr>\n",
       "      <th>5</th>\n",
       "      <td>What is (are) Knobloch syndrome ?</td>\n",
       "      <td>Knobloch syndrome is a rare condition characte...</td>\n",
       "    </tr>\n",
       "    <tr>\n",
       "      <th>6</th>\n",
       "      <td>How many people are affected by Knobloch syndr...</td>\n",
       "      <td>Knobloch syndrome is a rare condition. However...</td>\n",
       "    </tr>\n",
       "    <tr>\n",
       "      <th>7</th>\n",
       "      <td>What are the genetic changes related to Knoblo...</td>\n",
       "      <td>Mutations in the COL18A1 gene can cause Knoblo...</td>\n",
       "    </tr>\n",
       "    <tr>\n",
       "      <th>8</th>\n",
       "      <td>Is Knobloch syndrome inherited ?</td>\n",
       "      <td>This condition is inherited in an autosomal re...</td>\n",
       "    </tr>\n",
       "    <tr>\n",
       "      <th>9</th>\n",
       "      <td>What are the treatments for Knobloch syndrome ?</td>\n",
       "      <td>These resources address the diagnosis or manag...</td>\n",
       "    </tr>\n",
       "  </tbody>\n",
       "</table>\n",
       "</div>"
      ],
      "text/plain": [
       "                                            question  \\\n",
       "0       What is (are) keratoderma with woolly hair ?   \n",
       "1  How many people are affected by keratoderma wi...   \n",
       "2  What are the genetic changes related to kerato...   \n",
       "3        Is keratoderma with woolly hair inherited ?   \n",
       "4  What are the treatments for keratoderma with w...   \n",
       "5                  What is (are) Knobloch syndrome ?   \n",
       "6  How many people are affected by Knobloch syndr...   \n",
       "7  What are the genetic changes related to Knoblo...   \n",
       "8                   Is Knobloch syndrome inherited ?   \n",
       "9    What are the treatments for Knobloch syndrome ?   \n",
       "\n",
       "                                              answer  \n",
       "0  Keratoderma with woolly hair is a group of rel...  \n",
       "1  Keratoderma with woolly hair is rare; its prev...  \n",
       "2  Mutations in the JUP, DSP, DSC2, and KANK2 gen...  \n",
       "3  Most cases of keratoderma with woolly hair hav...  \n",
       "4  These resources address the diagnosis or manag...  \n",
       "5  Knobloch syndrome is a rare condition characte...  \n",
       "6  Knobloch syndrome is a rare condition. However...  \n",
       "7  Mutations in the COL18A1 gene can cause Knoblo...  \n",
       "8  This condition is inherited in an autosomal re...  \n",
       "9  These resources address the diagnosis or manag...  "
      ]
     },
     "execution_count": 7,
     "metadata": {},
     "output_type": "execute_result"
    }
   ],
   "source": [
    "medquad = medquad[:1000]\n",
    "medquad_sp = medquad.copy()\n",
    "medquad_sp.info()\n",
    "medquad_sp.head(10)"
   ]
  },
  {
   "cell_type": "code",
   "execution_count": null,
   "metadata": {},
   "outputs": [],
   "source": [
    "len_mq = int(len(medquad)*0.1)\n",
    "medquad_sp = medquad.sample(n=len_mq, random_state=42).copy()\n",
    "medquad_sp = medquad_sp.reset_index(drop=True)\n",
    "medquad_sp.info()\n",
    "medquad_sp.head()"
   ]
  },
  {
   "cell_type": "markdown",
   "metadata": {},
   "source": [
    "## Live"
   ]
  },
  {
   "cell_type": "markdown",
   "metadata": {},
   "source": [
    "### Sentence Based"
   ]
  },
  {
   "cell_type": "markdown",
   "metadata": {},
   "source": [
    "#### Methods"
   ]
  },
  {
   "cell_type": "code",
   "execution_count": 8,
   "metadata": {},
   "outputs": [],
   "source": [
    "def create_sb_get_answers(df, index, top_k, min_k=1):\n",
    "\n",
    "    for k in range(min_k, top_k + 1):\n",
    "\n",
    "        query_engine = index.as_query_engine(similarity_top_k=k)\n",
    "\n",
    "        resps = []\n",
    "        for q in tqdm(medquad[\"question\"].values, desc=f\"(k = {k}) Get responses\"):\n",
    "            resps.append(get_response(query_engine.query(q).response))\n",
    "\n",
    "        df[f\"answer_sb_k{k}\"] = resps\n",
    "\n",
    "def create_tb_get_answers(df, index, size, top_k, min_k=1):\n",
    "\n",
    "    for k in range(min_k, top_k + 1):\n",
    "\n",
    "        query_engine = index.as_query_engine(similarity_top_k=k)\n",
    "\n",
    "        resps = []\n",
    "        for q in tqdm(medquad[\"question\"].values, desc=f\"(k = {k}) Get {size} responses\"):\n",
    "            resps.append(get_response(query_engine.query(q).response))\n",
    "\n",
    "        df[f\"answer_tb_k{k}\"] = resps\n",
    "    \n",
    "    df.to_csv(f\"{dir_data}new validation datas/1000_tb_{size}_20k_answers.csv\", index=False)"
   ]
  },
  {
   "cell_type": "code",
   "execution_count": 9,
   "metadata": {},
   "outputs": [],
   "source": [
    "storage_context_tb = StorageContext.from_defaults(persist_dir=\"../data/vectors/token_based_16\")\n",
    "index_tb = load_index_from_storage(storage_context_tb)"
   ]
  },
  {
   "cell_type": "code",
   "execution_count": 10,
   "metadata": {},
   "outputs": [
    {
     "name": "stderr",
     "output_type": "stream",
     "text": [
      "(k = 11) Get 16 responses: 100%|██████████| 1000/1000 [52:37<00:00,  3.16s/it]\n",
      "C:\\Users\\solym\\AppData\\Local\\Temp\\ipykernel_32292\\204537386.py:23: SettingWithCopyWarning: \n",
      "A value is trying to be set on a copy of a slice from a DataFrame.\n",
      "Try using .loc[row_indexer,col_indexer] = value instead\n",
      "\n",
      "See the caveats in the documentation: https://pandas.pydata.org/pandas-docs/stable/user_guide/indexing.html#returning-a-view-versus-a-copy\n",
      "  df[f\"answer_tb_k{k}\"] = resps\n",
      "(k = 12) Get 16 responses: 100%|██████████| 1000/1000 [52:43<00:00,  3.16s/it]\n",
      "C:\\Users\\solym\\AppData\\Local\\Temp\\ipykernel_32292\\204537386.py:23: SettingWithCopyWarning: \n",
      "A value is trying to be set on a copy of a slice from a DataFrame.\n",
      "Try using .loc[row_indexer,col_indexer] = value instead\n",
      "\n",
      "See the caveats in the documentation: https://pandas.pydata.org/pandas-docs/stable/user_guide/indexing.html#returning-a-view-versus-a-copy\n",
      "  df[f\"answer_tb_k{k}\"] = resps\n",
      "(k = 13) Get 16 responses: 100%|██████████| 1000/1000 [52:41<00:00,  3.16s/it]\n",
      "C:\\Users\\solym\\AppData\\Local\\Temp\\ipykernel_32292\\204537386.py:23: SettingWithCopyWarning: \n",
      "A value is trying to be set on a copy of a slice from a DataFrame.\n",
      "Try using .loc[row_indexer,col_indexer] = value instead\n",
      "\n",
      "See the caveats in the documentation: https://pandas.pydata.org/pandas-docs/stable/user_guide/indexing.html#returning-a-view-versus-a-copy\n",
      "  df[f\"answer_tb_k{k}\"] = resps\n",
      "(k = 14) Get 16 responses: 100%|██████████| 1000/1000 [52:37<00:00,  3.16s/it]\n",
      "C:\\Users\\solym\\AppData\\Local\\Temp\\ipykernel_32292\\204537386.py:23: SettingWithCopyWarning: \n",
      "A value is trying to be set on a copy of a slice from a DataFrame.\n",
      "Try using .loc[row_indexer,col_indexer] = value instead\n",
      "\n",
      "See the caveats in the documentation: https://pandas.pydata.org/pandas-docs/stable/user_guide/indexing.html#returning-a-view-versus-a-copy\n",
      "  df[f\"answer_tb_k{k}\"] = resps\n",
      "(k = 15) Get 16 responses: 100%|██████████| 1000/1000 [52:30<00:00,  3.15s/it]\n",
      "C:\\Users\\solym\\AppData\\Local\\Temp\\ipykernel_32292\\204537386.py:23: SettingWithCopyWarning: \n",
      "A value is trying to be set on a copy of a slice from a DataFrame.\n",
      "Try using .loc[row_indexer,col_indexer] = value instead\n",
      "\n",
      "See the caveats in the documentation: https://pandas.pydata.org/pandas-docs/stable/user_guide/indexing.html#returning-a-view-versus-a-copy\n",
      "  df[f\"answer_tb_k{k}\"] = resps\n",
      "(k = 16) Get 16 responses: 100%|██████████| 1000/1000 [52:37<00:00,  3.16s/it]\n",
      "C:\\Users\\solym\\AppData\\Local\\Temp\\ipykernel_32292\\204537386.py:23: SettingWithCopyWarning: \n",
      "A value is trying to be set on a copy of a slice from a DataFrame.\n",
      "Try using .loc[row_indexer,col_indexer] = value instead\n",
      "\n",
      "See the caveats in the documentation: https://pandas.pydata.org/pandas-docs/stable/user_guide/indexing.html#returning-a-view-versus-a-copy\n",
      "  df[f\"answer_tb_k{k}\"] = resps\n",
      "(k = 17) Get 16 responses: 100%|██████████| 1000/1000 [52:22<00:00,  3.14s/it]\n",
      "C:\\Users\\solym\\AppData\\Local\\Temp\\ipykernel_32292\\204537386.py:23: SettingWithCopyWarning: \n",
      "A value is trying to be set on a copy of a slice from a DataFrame.\n",
      "Try using .loc[row_indexer,col_indexer] = value instead\n",
      "\n",
      "See the caveats in the documentation: https://pandas.pydata.org/pandas-docs/stable/user_guide/indexing.html#returning-a-view-versus-a-copy\n",
      "  df[f\"answer_tb_k{k}\"] = resps\n",
      "(k = 18) Get 16 responses: 100%|██████████| 1000/1000 [52:33<00:00,  3.15s/it]\n",
      "C:\\Users\\solym\\AppData\\Local\\Temp\\ipykernel_32292\\204537386.py:23: SettingWithCopyWarning: \n",
      "A value is trying to be set on a copy of a slice from a DataFrame.\n",
      "Try using .loc[row_indexer,col_indexer] = value instead\n",
      "\n",
      "See the caveats in the documentation: https://pandas.pydata.org/pandas-docs/stable/user_guide/indexing.html#returning-a-view-versus-a-copy\n",
      "  df[f\"answer_tb_k{k}\"] = resps\n",
      "(k = 19) Get 16 responses: 100%|██████████| 1000/1000 [52:28<00:00,  3.15s/it]\n",
      "C:\\Users\\solym\\AppData\\Local\\Temp\\ipykernel_32292\\204537386.py:23: SettingWithCopyWarning: \n",
      "A value is trying to be set on a copy of a slice from a DataFrame.\n",
      "Try using .loc[row_indexer,col_indexer] = value instead\n",
      "\n",
      "See the caveats in the documentation: https://pandas.pydata.org/pandas-docs/stable/user_guide/indexing.html#returning-a-view-versus-a-copy\n",
      "  df[f\"answer_tb_k{k}\"] = resps\n",
      "(k = 20) Get 16 responses: 100%|██████████| 1000/1000 [52:35<00:00,  3.16s/it]\n",
      "C:\\Users\\solym\\AppData\\Local\\Temp\\ipykernel_32292\\204537386.py:23: SettingWithCopyWarning: \n",
      "A value is trying to be set on a copy of a slice from a DataFrame.\n",
      "Try using .loc[row_indexer,col_indexer] = value instead\n",
      "\n",
      "See the caveats in the documentation: https://pandas.pydata.org/pandas-docs/stable/user_guide/indexing.html#returning-a-view-versus-a-copy\n",
      "  df[f\"answer_tb_k{k}\"] = resps\n"
     ]
    }
   ],
   "source": [
    "df_tb = pd.read_csv(f\"{dir_data}validation datas/medquad_1000_tb_16.csv\")\n",
    "answer_df = df_tb.loc[:, df_tb.columns.str.contains('answer', case=False)]\n",
    "#answer_df.info()\n",
    "\n",
    "create_tb_get_answers(answer_df, index_tb, 16, 20, min_k=11)"
   ]
  },
  {
   "cell_type": "code",
   "execution_count": 13,
   "metadata": {},
   "outputs": [],
   "source": [
    "df_sb = pd.read_csv(f\"{dir_data}validation datas/medquad_1000_sb.csv\")\n",
    "\n",
    "storage_context_sb = StorageContext.from_defaults(persist_dir=\"../data/vectors/sentence_based\")\n",
    "index_sb = load_index_from_storage(storage_context_sb)"
   ]
  },
  {
   "cell_type": "code",
   "execution_count": 16,
   "metadata": {},
   "outputs": [
    {
     "name": "stderr",
     "output_type": "stream",
     "text": [
      "                                                                           \r"
     ]
    }
   ],
   "source": [
    "create_sb_get_answers(df_sb, index_sb, top_k=20, min_k=11)\n",
    "df_sb.to_csv(f\"{dir_data}validation datas/medquad_1000_sb_20k.csv\", index=False)"
   ]
  },
  {
   "cell_type": "code",
   "execution_count": 27,
   "metadata": {},
   "outputs": [
    {
     "data": {
      "text/plain": [
       "\"['This mechanism probably underlies the skin, hair, and heart problems that occur in keratoderma with woolly hair.', 'Keratoderma with woolly hair is rare; its prevalence worldwide is unknown.']\""
      ]
     },
     "execution_count": 27,
     "metadata": {},
     "output_type": "execute_result"
    }
   ],
   "source": [
    "valami_df = pd.read_csv(f\"{dir_data}validation datas/medquad_1000_sb_20k.csv\")\n",
    "valami_df['answer_sb_k2'].values[1]"
   ]
  },
  {
   "cell_type": "code",
   "execution_count": null,
   "metadata": {},
   "outputs": [],
   "source": [
    "def create_sb_validation(index, tokenized_answers, top_k, min_k=1):\n",
    "    tqdm_help = min_k\n",
    "\n",
    "    for k in range(min_k, top_k + 1):\n",
    "        tqdm_help += 1\n",
    "\n",
    "        query_engine = index.as_query_engine(similarity_top_k=k)\n",
    "\n",
    "        resps = []\n",
    "        for q in tqdm(medquad[\"question\"].values, desc=f\"(k = {k}) Get responses\", leave=False):\n",
    "            resps.append(get_response(query_engine.query(q).response))\n",
    "\n",
    "        medquad[f\"answer_sb_k{k}\"] = resps\n",
    "\n",
    "        accs = [0] * len(medquad)\n",
    "        f1s = [0] * len(medquad)\n",
    "        recalls = [0] * len(medquad)\n",
    "        precisions = [0] * len(medquad)\n",
    "\n",
    "        for i in tqdm(range(0,len(medquad)), leave=False):\n",
    "            acc, f1, recall, prec = map_found(\n",
    "                medquad[f\"answer_sb_k{k}\"].values[i], \n",
    "                tokenized_answers[i])\n",
    "            \n",
    "            #print(acc,f1,recall,prec)\n",
    "            accs[i] = acc\n",
    "            f1s[i] = f1\n",
    "            recalls[i] = recall\n",
    "            precisions[i] = prec\n",
    "\n",
    "        medquad[f\"ACC_sb_k{k}\"] = accs\n",
    "        medquad[f\"F1_sb_k{k}\"] = f1s\n",
    "        medquad[f\"RECALL_sb_k{k}\"] = recalls\n",
    "        medquad[f\"PRECISION_sb_k{k}\"] = precisions"
   ]
  },
  {
   "cell_type": "code",
   "execution_count": null,
   "metadata": {},
   "outputs": [],
   "source": [
    "def get_sb_result_df(medquad, top_k):    \n",
    "    \n",
    "    results = []\n",
    "\n",
    "    for k in range(1, top_k + 1):\n",
    "        # Átlagértékek kiszámítása\n",
    "        acc_mean = medquad[f\"ACC_sb_k{k}\"].mean()\n",
    "        f1_mean = medquad[f\"F1_sb_k{k}\"].mean()\n",
    "        recall_mean = medquad[f\"RECALL_sb_k{k}\"].mean()\n",
    "        precision_mean = medquad[f\"PRECISION_sb_k{k}\"].mean()\n",
    "        # Új sor hozzáadása a results listához\n",
    "        results.append({\n",
    "            \"k\": k,\n",
    "            \"acc\": acc_mean,\n",
    "            \"f1\": f1_mean,\n",
    "            \"recall\": recall_mean,\n",
    "            \"precision\": precision_mean\n",
    "        })\n",
    "\n",
    "    results_df = pd.DataFrame(results)\n",
    "\n",
    "    return results_df"
   ]
  },
  {
   "cell_type": "code",
   "execution_count": null,
   "metadata": {},
   "outputs": [],
   "source": [
    "storage_context_sb = StorageContext.from_defaults(persist_dir=\"../data/vectors/sentence_based\")\n",
    "index_sb = load_index_from_storage(storage_context_sb)\n",
    "\n",
    "tokenized_answers = [sent_tokenize(answer) for answer in medquad[\"answer\"].values]"
   ]
  },
  {
   "cell_type": "code",
   "execution_count": null,
   "metadata": {},
   "outputs": [],
   "source": [
    "create_sb_validation(index_sb, tokenized_answers, 10)\n",
    "\n",
    "result_sb_dataframe = get_sb_result_df(medquad, 10)\n",
    "result_sb_dataframe.info()\n",
    "result_sb_dataframe.head(10)\n",
    "result_sb_dataframe.to_csv(f\"{dir_data}validation datas/1000/sb_scores.csv\", index=False)"
   ]
  },
  {
   "cell_type": "markdown",
   "metadata": {},
   "source": [
    "### Token size Based"
   ]
  },
  {
   "cell_type": "code",
   "execution_count": null,
   "metadata": {},
   "outputs": [],
   "source": [
    "medquad.info()"
   ]
  },
  {
   "cell_type": "code",
   "execution_count": null,
   "metadata": {},
   "outputs": [],
   "source": [
    "def get_tb_result_df(medquad, top_k, size):    \n",
    "    \n",
    "    results = []\n",
    "\n",
    "    for k in range(1, top_k + 1):\n",
    "        # Átlagértékek kiszámítása\n",
    "        # median??\n",
    "        acc_mean = medquad[f\"ACC_tb_{size}_k{k}\"].mean()\n",
    "        f1_mean = medquad[f\"F1_tb_{size}_k{k}\"].mean()\n",
    "        recall_mean = medquad[f\"RECALL_tb_{size}_k{k}\"].mean()\n",
    "        precision_mean = medquad[f\"PRECISION_tb_{size}_k{k}\"].mean()\n",
    "        # Új sor hozzáadása a results listához\n",
    "        results.append({\n",
    "            \"k\": k,\n",
    "            \"acc\": acc_mean,\n",
    "            \"f1\": f1_mean,\n",
    "            \"recall\": recall_mean,\n",
    "            \"precision\": precision_mean\n",
    "        })\n",
    "\n",
    "    results_df = pd.DataFrame(results)\n",
    "\n",
    "    return results_df"
   ]
  },
  {
   "cell_type": "code",
   "execution_count": null,
   "metadata": {},
   "outputs": [],
   "source": [
    "def create_tb_validation(index, top_k, size, min_k=1):\n",
    "    for k in range(min_k, top_k+1):\n",
    "        query_engine = index.as_query_engine(similarity_top_k=k)\n",
    "\n",
    "        resps = []\n",
    "        for q in tqdm(medquad[\"question\"].values, desc=f\"({size} token, k = {k}) Get responses\", leave=False):\n",
    "            resps.append(get_response(query_engine.query(q).response))\n",
    "\n",
    "        medquad[f\"answer_tb_{size}_k{k}\"] = resps\n",
    "\n",
    "        accs = [0] * len(medquad)\n",
    "        f1s = [0] * len(medquad)\n",
    "        recalls = [0] * len(medquad)\n",
    "        precisions = [0] * len(medquad)\n",
    "\n",
    "        for i in tqdm(range(0,len(medquad))):\n",
    "            acc, f1, recall, prec = map_found(\n",
    "                medquad[f\"answer_tb_{size}_k{k}\"].values[i], \n",
    "                at.create_fixed_length_chunks_with_tokenizer(medquad[\"answer\"].values[i], chunk_size=size)\n",
    "            )\n",
    "            \n",
    "            #print(acc,f1,recall,prec)\n",
    "            accs[i] = acc\n",
    "            f1s[i] = f1\n",
    "            recalls[i] = recall\n",
    "            precisions[i] = prec\n",
    "\n",
    "        medquad[f\"ACC_tb_{size}_k{k}\"] = accs\n",
    "        medquad[f\"F1_tb_{size}_k{k}\"] = f1s\n",
    "        medquad[f\"RECALL_tb_{size}_k{k}\"] = recalls\n",
    "        medquad[f\"PRECISION_tb_{size}_k{k}\"] = precisions\n",
    "    \n",
    "    tb_result_df = get_tb_result_df(medquad, top_k, size)\n",
    "    tb_result_df.to_csv(f\"{dir_data}validation datas/1000/tb_{size}_scores.csv\", index=False)\n",
    "        # ide mentést implementálni csv formátumban"
   ]
  },
  {
   "cell_type": "code",
   "execution_count": null,
   "metadata": {},
   "outputs": [],
   "source": [
    "token_size_list = [512]\n",
    "\n",
    "for size in token_size_list:  \n",
    "    storage_context_tb = StorageContext.from_defaults(persist_dir=f\"../data/vectors/token_based_{size}\")\n",
    "    index_tb = load_index_from_storage(storage_context_tb)\n",
    "\n",
    "    create_tb_validation(index_tb, 9, size)"
   ]
  },
  {
   "cell_type": "code",
   "execution_count": null,
   "metadata": {},
   "outputs": [],
   "source": [
    "tb_result_df = get_tb_result_df(medquad, 9, 512)\n",
    "tb_result_df.to_csv(f\"{dir_data}validation datas/1000/tb_512_scores.csv\", index=False)"
   ]
  },
  {
   "cell_type": "code",
   "execution_count": null,
   "metadata": {},
   "outputs": [],
   "source": [
    "medquad.to_csv(f\"{dir_data}validation datas/medquad_1000_sb.csv\", index=False)\n",
    "\n",
    "valami = pd.read_csv(f\"{dir_data}validation datas/medquad_1000_sb.csv\")\n",
    "valami.head()"
   ]
  },
  {
   "cell_type": "code",
   "execution_count": null,
   "metadata": {},
   "outputs": [],
   "source": [
    "medquad.head(10)"
   ]
  },
  {
   "cell_type": "markdown",
   "metadata": {},
   "source": [
    "## Demo"
   ]
  },
  {
   "cell_type": "code",
   "execution_count": null,
   "metadata": {},
   "outputs": [],
   "source": [
    "question  = medquad[\"question\"].values[10]\n",
    "real_answer  = medquad[\"answer\"].values[10]\n",
    "fake_answer = medquad[\"answer\"].values[5] + medquad[\"answer\"].values[20]"
   ]
  },
  {
   "cell_type": "code",
   "execution_count": null,
   "metadata": {},
   "outputs": [],
   "source": [
    "fake_answer_sentence = fake_answer.split(\".\")\n",
    "fake_answer_sentence = [item.strip() for item in fake_answer_sentence if len(item) > 2]\n",
    "random.seed(10)\n",
    "random.shuffle(fake_answer_sentence)\n",
    "fake_answer_sentence"
   ]
  },
  {
   "cell_type": "code",
   "execution_count": null,
   "metadata": {},
   "outputs": [],
   "source": [
    "real_answer_sentence = real_answer.split(\".\")\n",
    "real_answer_sentence = [item.strip() for item in real_answer_sentence if len(item) > 2]\n",
    "random.seed(10)\n",
    "random.shuffle(real_answer_sentence)\n",
    "real_answer_sentence"
   ]
  },
  {
   "cell_type": "code",
   "execution_count": null,
   "metadata": {},
   "outputs": [],
   "source": [
    "demo_found = (real_answer_sentence[:5] + fake_answer_sentence[:3])\n",
    "random.seed(22)\n",
    "random.shuffle(demo_found)\n",
    "demo_found"
   ]
  },
  {
   "cell_type": "code",
   "execution_count": null,
   "metadata": {},
   "outputs": [],
   "source": [
    "acc, f1, recall, precision = map_found(demo_found, real_answer)\n",
    "\n",
    "print(\"Accuracy scores: \", acc)\n",
    "print(\"f1 scores\", f1)\n",
    "print(\"Recall scores\", recall)\n",
    "print(\"Precision scores\", precision)\n",
    "print(\"Mean Reciprocal Rank (MRR): \", calculate_mrr_from_chunks(demo_found, real_answer))"
   ]
  }
 ],
 "metadata": {
  "kernelspec": {
   "display_name": "Python 3",
   "language": "python",
   "name": "python3"
  },
  "language_info": {
   "codemirror_mode": {
    "name": "ipython",
    "version": 3
   },
   "file_extension": ".py",
   "mimetype": "text/x-python",
   "name": "python",
   "nbconvert_exporter": "python",
   "pygments_lexer": "ipython3",
   "version": "3.11.9"
  }
 },
 "nbformat": 4,
 "nbformat_minor": 2
}
