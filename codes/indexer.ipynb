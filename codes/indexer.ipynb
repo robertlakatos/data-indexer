{
 "cells": [
  {
   "cell_type": "markdown",
   "metadata": {},
   "source": [
    "# Indexer pipeline"
   ]
  },
  {
   "cell_type": "markdown",
   "metadata": {},
   "source": [
    "## Import dependecies"
   ]
  },
  {
   "cell_type": "code",
   "execution_count": 2,
   "metadata": {},
   "outputs": [
    {
     "name": "stderr",
     "output_type": "stream",
     "text": [
      "C:\\Users\\solym\\AppData\\Local\\Packages\\PythonSoftwareFoundation.Python.3.11_qbz5n2kfra8p0\\LocalCache\\local-packages\\Python311\\site-packages\\tqdm\\auto.py:21: TqdmWarning: IProgress not found. Please update jupyter and ipywidgets. See https://ipywidgets.readthedocs.io/en/stable/user_install.html\n",
      "  from .autonotebook import tqdm as notebook_tqdm\n",
      "[nltk_data] Downloading package punkt_tab to\n",
      "[nltk_data]     C:\\Users\\solym\\AppData\\Roaming\\nltk_data...\n",
      "[nltk_data]   Package punkt_tab is already up-to-date!\n"
     ]
    }
   ],
   "source": [
    "import pandas as pd\n",
    "from llama_index.core import Settings, VectorStoreIndex, Document\n",
    "from llama_index.embeddings.huggingface import HuggingFaceEmbedding\n",
    "from transformers import AutoTokenizer\n",
    "\n",
    "import nltk\n",
    "from nltk.tokenize import sent_tokenize\n",
    "nltk.download('punkt_tab')\n",
    "\n",
    "from tqdm import tqdm"
   ]
  },
  {
   "cell_type": "markdown",
   "metadata": {},
   "source": [
    "## Load Data"
   ]
  },
  {
   "cell_type": "code",
   "execution_count": 3,
   "metadata": {},
   "outputs": [],
   "source": [
    "dir_data_original = \"../data/\"\n",
    "\n",
    "dir_data_json = f\"../data/validations/mqdquad.json\"\n",
    "dir_data_csv = f\"../data/validations/mqdquad.csv\""
   ]
  },
  {
   "cell_type": "markdown",
   "metadata": {},
   "source": [
    "### Variables"
   ]
  },
  {
   "cell_type": "code",
   "execution_count": 4,
   "metadata": {},
   "outputs": [],
   "source": [
    "test_file_size = 50\n",
    "\n",
    "fixedlength_chunk_size = 512\n",
    "fixedlength_chunk_max_length = 1024\n",
    "\n",
    "# token-based sliding window\n",
    "# 128 - 64 - 32 - 16\n",
    "# 50% overlap okés, de lehetne 25% is\n",
    "# 64 - 16, 32 - 8, 16 - 4, 8 - 2\n",
    "\n",
    "token_sliding_window_size = 128\n",
    "token_sliding_window_overlap = 64\n",
    "\n",
    "sentence_sliding_window_size = 5\n",
    "sentence_sliding_window_overlap = 3"
   ]
  },
  {
   "cell_type": "markdown",
   "metadata": {},
   "source": [
    "### Load Validation Dataset (MedQuAD)"
   ]
  },
  {
   "cell_type": "code",
   "execution_count": 5,
   "metadata": {},
   "outputs": [
    {
     "name": "stdout",
     "output_type": "stream",
     "text": [
      "<class 'pandas.core.frame.DataFrame'>\n",
      "RangeIndex: 100 entries, 0 to 99\n",
      "Data columns (total 1 columns):\n",
      " #   Column  Non-Null Count  Dtype \n",
      "---  ------  --------------  ----- \n",
      " 0   answer  100 non-null    object\n",
      "dtypes: object(1)\n",
      "memory usage: 932.0+ bytes\n",
      "LLM is explicitly disabled. Using MockLLM.\n"
     ]
    }
   ],
   "source": [
    "medquad = pd.read_json(dir_data_json, orient=\"records\")\n",
    "\n",
    "medquad['answer'].to_csv(dir_data_csv, index=False)\n",
    "\n",
    "medquadcsv = pd.read_csv(dir_data_csv)\n",
    "\n",
    "medquadcsv = medquadcsv[:100]\n",
    "\n",
    "medquadcsv.info()\n",
    "#medquadcsv.head(10)\n",
    "\n",
    "# Set LLM to None\n",
    "Settings.llm = None\n",
    "\n",
    "# Set Hugging Face embedding model for LlamaIndex\n",
    "Settings.embed_model = HuggingFaceEmbedding(model_name=\"sentence-transformers/all-MiniLM-L12-v2\")\n",
    "\n",
    "# Hugging Face tokenizer setup\n",
    "tokenizer = AutoTokenizer.from_pretrained('bert-base-uncased')"
   ]
  },
  {
   "cell_type": "markdown",
   "metadata": {},
   "source": [
    "### Load Publications"
   ]
  },
  {
   "cell_type": "markdown",
   "metadata": {},
   "source": [
    "### Load Sensors"
   ]
  },
  {
   "cell_type": "markdown",
   "metadata": {},
   "source": [
    "## Index Data"
   ]
  },
  {
   "cell_type": "markdown",
   "metadata": {},
   "source": [
    "### Functions"
   ]
  },
  {
   "cell_type": "code",
   "execution_count": 6,
   "metadata": {},
   "outputs": [],
   "source": [
    "def CreateQueries(query_engine):\n",
    "    # Define your queries\n",
    "    queries = [\n",
    "        \"What is (are) keratoderma with woolly hair?\",\n",
    "        \"How many people are affected by keratoderma with woolly hair?\",\n",
    "        \"What are the genetic changes related to keratoderma with woolly hair?\",\n",
    "        \"Is keratoderma with woolly hair inherited?\",\n",
    "        \"What are the treatments for keratoderma with woolly hair?\",\n",
    "        \"What is (are) Knobloch syndrome?\",\n",
    "        \"How many people are affected by Knobloch syndrome?\",\n",
    "        \"What are the genetic changes related to Knobloch syndrome?\"\n",
    "    ]\n",
    "\n",
    "    # Iterate through the queries and print responses\n",
    "    for query in queries:\n",
    "        response = query_engine.query(query)\n",
    "        print(f\"Query: {query}\\nResponse: {response}\\n\")"
   ]
  },
  {
   "cell_type": "markdown",
   "metadata": {},
   "source": [
    "### Rögzített hosszúságú chunk-ok (Fixed-length chunking)\n",
    "\n",
    "- **Hivatkozás:** Devlin, J., Chang, M. W., Lee, K., & Toutanova, K. (2019). BERT: Pre-training of deep bidirectional transformers for language understanding. In Proceedings of the 2019 Conference of the North American Chapter of the Association for Computational Linguistics: Human Language Technologies (pp. 4171-4186). https://doi.org/10.18653/v1/N19-1423\n",
    "- **Állítás:** A rögzített hosszúságú chunk-ok használata gyakori a BERT alapú modellekben, ahol a dokumentumokat egy meghatározott hosszúságú (512 tokenes) egységekbe bontják."
   ]
  },
  {
   "cell_type": "code",
   "execution_count": 7,
   "metadata": {},
   "outputs": [],
   "source": [
    "# Function to create fixed-length chunks using tokenizer\n",
    "def create_fixed_length_chunks_with_tokenizer(texts, chunk_size=fixedlength_chunk_size):\n",
    "    chunks = []\n",
    "    for text in tqdm(texts, desc=\"Creating chunks\"):\n",
    "        tokens = tokenizer.tokenize(text, max_length=fixedlength_chunk_max_length, truncation=True)  # Tokenize the text using Hugging Face tokenizer\n",
    "        for i in range(0, len(tokens), chunk_size):\n",
    "            chunk_tokens = tokens[i:i + chunk_size]\n",
    "            chunk = tokenizer.convert_tokens_to_string(chunk_tokens)\n",
    "            chunks.append(Document(text=chunk)) # Store the chunk as a Document\n",
    "    return chunks"
   ]
  },
  {
   "cell_type": "code",
   "execution_count": null,
   "metadata": {},
   "outputs": [],
   "source": [
    "# Extract the 'answer' column from the loaded data\n",
    "texts = medquadcsv['answer'].tolist()\n",
    "\n",
    "# Create chunks from the 'answer' column text\n",
    "document_chunks_fixed_length = create_fixed_length_chunks_with_tokenizer(texts, chunk_size=128)\n",
    "\n",
    "# Create a VectorStoreIndex from the document chunks\n",
    "index_fixed_length = VectorStoreIndex.from_documents(document_chunks_fixed_length, show_progress=True)\n",
    "\n",
    "index_fixed_length.storage_context.persist()\n",
    "\n",
    "# Set up the query engine\n",
    "query_engine_fixed_length = index_fixed_length.as_query_engine()\n",
    "\n",
    "CreateQueries(query_engine_fixed_length)"
   ]
  },
  {
   "cell_type": "code",
   "execution_count": 9,
   "metadata": {},
   "outputs": [
    {
     "name": "stdout",
     "output_type": "stream",
     "text": [
      "Szöveg: keratoderma with woolly hair is a group of related conditions that affect the skin and hair and in many cases increase the risk of potentially life - threatening heart problems. people with these conditions have hair that is unusually coarse, dry, fine, and tightly curled. in some cases, the hair is also sparse. the woolly hair texture typically affects only scalp hair and is present from birth. starting early in life, affected individuals also develop palmoplantar keratoderma, a condition that causes skin on the palms of the hands and the soles of the feet to become thick, scaly, and calloused.\n",
      "Szöveg: cardiomyopathy, which is a disease of the heart muscle, is a life - threatening health problem that can develop in people with keratoderma with woolly hair. unlike the other features of this condition, signs and symptoms of cardiomyopathy may not appear until adolescence or later. complications of cardiomyopathy can include an abnormal heartbeat ( arrhythmia ), heart failure, and sudden death. keratoderma with woolly hair comprises several related conditions with overlapping signs and symptoms. researchers have recently proposed classifying keratoderma with woolly hair into four types, based on the underlying genetic cause\n",
      "Szöveg: . type i, also known as naxos disease, is characterized by palmoplantar keratoderma, woolly hair, and a form of cardiomyopathy called arrhythmogenic right ventricular cardiomyopathy ( arvc ). type ii, also known as carvajal syndrome, has hair and skin abnormalities similar to type i but features a different form of cardiomyopathy, called dilated left ventricular cardiomyopathy. type iii also has signs and symptoms similar to those of type i, including arvc, although the hair and skin abnormalities are often milder. type\n",
      "Szöveg: iv is characterized by palmoplantar keratoderma and woolly and sparse hair, as well as abnormal fingernails and toenails. type iv does not appear to cause cardiomyopathy.\n",
      "Szöveg: keratoderma with woolly hair is rare ; its prevalence worldwide is unknown. type i ( naxos disease ) was first described in families from the greek island of naxos. since then, affected families have been found in other greek islands, turkey, and the middle east. this form of the condition may affect up to 1 in 1, 000 people from the greek islands. type ii ( carvajal syndrome ), type iii, and type iv have each been identified in only a small number of families worldwide.\n",
      "Szöveg: mutations in the jup, dsp, dsc2, and kank2 genes cause keratoderma with woolly hair types i through iv, respectively. the jup, dsp, and dsc2 genes provide instructions for making components of specialized cell structures called desmosomes. desmosomes are located in the membrane surrounding certain cells, including skin and heart muscle cells. desmosomes help attach cells to one another, which provides strength and stability to tissues. they also play a role in signaling between cells. mutations in the jup, dsp, or dsc2 gene alter the structure and\n",
      "Szöveg: impair the function of desmosomes. abnormal or missing desmosomes prevent cells from sticking to one another effectively, which likely makes the hair, skin, and heart muscle more fragile. over time, as these tissues are exposed to mechanical stress ( for example, friction on the surface of the skin or the constant contraction and relaxation of the heart muscle ), they become damaged and can no longer function normally. this mechanism probably underlies the skin, hair, and heart problems that occur in keratoderma with woolly hair. some studies suggest that abnormal cell signaling may also contribute to cardiomyopathy in people with this\n",
      "Szöveg: group of conditions. unlike the other genes associated with keratoderma with woolly hair, the kank2 gene provides instructions for making a protein that is not part of desmosomes. instead, it regulates other proteins called steroid receptor coactivators ( srcs ), whose function is to help turn on ( activate ) certain genes. srcs play important roles in tissues throughout the body, including the skin. studies suggest that mutations in the kank2 gene disrupt the regulation of srcs, which leads to abnormal gene activity. however, it is unclear how these changes underlie the skin and hair abnormalities in ke\n",
      "Szöveg: ##ratoderma with woolly hair type iv.\n",
      "Szöveg: most cases of keratoderma with woolly hair have an autosomal recessive pattern of inheritance, which means both copies of the gene in each cell have mutations. the parents of an individual with an autosomal recessive condition each carry one copy of the mutated gene, but they usually do not show signs and symptoms of the condition.\n",
      "Szöveg: these resources address the diagnosis or management of keratoderma with woolly hair : - gene review : gene review : arrhythmogenic right ventricular dysplasia / cardiomyopathy - gene review : gene review : dilated cardiomyopathy overview - genetic testing registry : arrhythmogenic right ventricular cardiomyopathy, type 11 - genetic testing registry : cardiomyopathy, dilated, with woolly hair, keratoderma, and tooth agenesis - genetic testing registry : naxos disease - genetic testing registry : palmoplantar keratoderma and\n",
      "Szöveg: woolly hair - national heart, lung, and blood institute : how is cardiomyopathy diagnosed? - national heart, lung, and blood institute : how is cardiomyopathy treated? these resources from medlineplus offer information about the diagnosis and management of various health conditions : - diagnostic tests - drug therapy - surgery and rehabilitation - genetic counseling - palliative care\n",
      "Szöveg: knobloch syndrome is a rare condition characterized by severe vision problems and a skull defect. a characteristic feature of knobloch syndrome is extreme nearsightedness ( high myopia ). in addition, several other eye abnormalities are common in people with this condition. most affected individuals have vitreoretinal degeneration, which is breakdown ( degeneration ) of two structures in the eye called the vitreous and the retina. the vitreous is the gelatin - like substance that fills the eye, and the retina is the light - sensitive tissue at the back of the eye. vitreoretina\n",
      "Szöveg: ##l degeneration often leads to separation of the retina from the back of the eye ( retinal detachment ). affected individuals may also have abnormalities in the central area of the retina, called the macula. the macula is responsible for sharp central vision, which is needed for detailed tasks such as reading, driving, and recognizing faces. due to abnormalities in the vitreous, retina, and macula, people with knobloch syndrome often develop blindness in one or both eyes. another characteristic feature of knobloch syndrome is a skull defect called an occipital encephalocele, which\n",
      "Szöveg: is a sac - like protrusion of the brain ( encephalocele ) through a defect in the bone at the base of the skull ( occipital bone ). some affected individuals have been diagnosed with a different skull defect in the occipital region, and it is unclear whether the defect is always a true encephalocele. in other conditions, encephaloceles may be associated with intellectual disability ; however, most people with knobloch syndrome have normal intelligence.\n",
      "Szöveg: knobloch syndrome is a rare condition. however, the exact prevalence of the condition is unknown.\n",
      "Szöveg: mutations in the col18a1 gene can cause knobloch syndrome. the col18a1 gene provides instructions for making a protein that forms collagen xviii, which is found in the basement membranes of tissues throughout the body. basement membranes are thin, sheet - like structures that separate and support cells in these tissues. collagen xviii is found in the basement membranes of several parts of the eye, including the vitreous and retina, among other tissues. little is known about the function of this protein, but it appears to be involved in normal development of the eye. several mutations in the col18a1 gene have been\n",
      "Szöveg: identified in people with knobloch syndrome. most col18a1 gene mutations lead to an abnormally short version of the genetic blueprint used to make the collagen xviii protein. although the process is unclear, the col18a1 gene mutations result in the loss of collagen xviii protein, which likely causes the signs and symptoms of knobloch syndrome. when the condition is caused by col18a1 gene mutations, it is sometimes referred to as knobloch syndrome type i. research indicates that mutations in at least two other genes that have not been identified may cause knobloch syndrome types ii and iii. although they\n",
      "Szöveg: are caused by alterations in different genes, the three types of the condition have similar signs and symptoms.\n",
      "Szöveg: this condition is inherited in an autosomal recessive pattern, which means both copies of the gene in each cell have mutations. the parents of an individual with an autosomal recessive condition each carry one copy of the mutated gene, but they typically do not show signs and symptoms of the condition.\n",
      "Szöveg: these resources address the diagnosis or management of knobloch syndrome : - american academy of ophthalmology : eye smart - genetic testing registry : knobloch syndrome 1 - jama patient page : retinal detachment - national eye institute : facts about retinal detachment - prevent blindness america : retinal tears and detachments these resources from medlineplus offer information about the diagnosis and management of various health conditions : - diagnostic tests - drug therapy - surgery and rehabilitation - genetic counseling - palliative care\n",
      "Szöveg: coloboma is an eye abnormality that occurs before birth. colobomas are missing pieces of tissue in structures that form the eye. they may appear as notches or gaps in one of several parts of the eye, including the colored part of the eye called the iris ; the retina, which is the specialized light - sensitive tissue that lines the back of the eye ; the blood vessel layer under the retina called the choroid ; or the optic nerves, which carry information from the eyes to the brain. colobomas may be present in one or both eyes and, depending on their size and location, can affect\n",
      "Szöveg: a person ' s vision. colobomas affecting the iris, which result in a \" keyhole \" appearance of the pupil, generally do not lead to vision loss. colobomas involving the retina result in vision loss in specific parts of the visual field, generally the upper part. large retinal colobomas or those affecting the optic nerve can cause low vision, which means vision loss that cannot be completely corrected with glasses or contact lenses. some people with coloboma also have a condition called microphthalmia. in this condition, one or both eyeballs are abnormally small. in some affected individuals\n",
      "Szöveg: , the eyeball may appear to be completely missing ; however, even in these cases some remaining eye tissue is generally present. such severe microphthalmia should be distinguished from another condition called anophthalmia, in which no eyeball forms at all. however, the terms anophthalmia and severe microphthalmia are often used interchangeably. microphthalmia may or may not result in significant vision loss. people with coloboma may also have other eye abnormalities, including clouding of the lens of the eye ( cataract ), increased pressure inside the eye ( glaucoma ) that can\n",
      "Szöveg: damage the optic nerve, vision problems such as nearsightedness ( myopia ), involuntary back - and - forth eye movements ( nystagmus ), or separation of the retina from the back of the eye ( retinal detachment ). some individuals have coloboma as part of a syndrome that affects other organs and tissues in the body. these forms of the condition are described as syndromic. when coloboma occurs by itself, it is described as nonsyndromic or isolated. colobomas involving the eyeball should be distinguished from gaps that occur in the eyelids. while these eye\n",
      "Szöveg: ##lid gaps are also called colobomas, they arise from abnormalities in different structures during early development.\n",
      "Szöveg: coloboma occurs in approximately 1 in 10, 000 people. because coloboma does not always affect vision or the outward appearance of the eye, some people with this condition are likely undiagnosed.\n",
      "Szöveg: coloboma arises from abnormal development of the eye. during the second month of development before birth, a seam called the optic fissure ( also known as the choroidal fissure or embryonic fissure ) closes to form the structures of the eye. when the optic fissure does not close completely, the result is a coloboma. the location of the coloboma depends on the part of the optic fissure that failed to close. coloboma may be caused by changes in many genes involved in the early development of the eye, most of which have not been identified. the condition may also result from a chrom\n",
      "Szöveg: ##osomal abnormality affecting one or more genes. most genetic changes associated with coloboma have been identified only in very small numbers of affected individuals. the risk of coloboma may also be increased by environmental factors that affect early development, such as exposure to alcohol during pregnancy. in these cases, affected individuals usually have other health problems in addition to coloboma.\n",
      "Szöveg: most often, isolated coloboma is not inherited, and there is only one affected individual in a family. however, the affected individual is still at risk of passing the coloboma on to his or her own children. in cases when it is passed down in families, coloboma can have different inheritance patterns. isolated coloboma is sometimes inherited in an autosomal dominant pattern, which means one copy of an altered gene in each cell is sufficient to cause the disorder. isolated coloboma can also be inherited in an autosomal recessive pattern, which means both copies of a gene in each cell have mutations. the\n",
      "Szöveg: parents of an individual with an autosomal recessive condition each carry one copy of a mutated gene, but they typically do not show signs and symptoms of the condition. less commonly, isolated coloboma may have x - linked dominant or x - linked recessive patterns of inheritance. x - linked means that a gene associated with this condition is located on the x chromosome, which is one of the two sex chromosomes. a characteristic of x - linked inheritance is that fathers cannot pass x - linked traits to their sons. x - linked dominant means that in females ( who have two x chromosomes ), a mutation in one of the two\n",
      "Szöveg: copies of a gene in each cell is sufficient to cause the disorder. in males ( who have only one x chromosome ), a mutation in the only copy of a gene in each cell causes the disorder. in most cases, males experience more severe symptoms of the disorder than females. x - linked recessive means that in females, a mutation would have to occur in both copies of a gene to cause the disorder. in males, one altered copy of a gene in each cell is sufficient to cause the condition. because it is unlikely that females will have two altered copies of a particular gene, males are affected by x - linked recessive disorders\n",
      "Szöveg: much more frequently than females. when coloboma occurs as a feature of a genetic syndrome or chromosomal abnormality, it may cluster in families according to the inheritance pattern for that condition, which may be autosomal dominant, autosomal recessive, or x - linked.\n",
      "Szöveg: these resources address the diagnosis or management of coloboma : - genetic testing registry : congenital ocular coloboma - genetic testing registry : microphthalmia, isolated, with coloboma 1 - genetic testing registry : microphthalmia, isolated, with coloboma 2 - genetic testing registry : microphthalmia, isolated, with coloboma 3 - genetic testing registry : microphthalmia, isolated, with coloboma 4 - genetic testing registry : microphthalmia, isolated, with coloboma 5 - genetic testing registry : microphthalmia, isolated, with coloboma 6 - national eye\n",
      "Szöveg: institute : facts about uveal coloboma these resources from medlineplus offer information about the diagnosis and management of various health conditions : - diagnostic tests - drug therapy - surgery and rehabilitation - genetic counseling - palliative care\n",
      "Szöveg: lacrimo - auriculo - dento - digital ( ladd ) syndrome is a genetic disorder that mainly affects the eyes, ears, mouth, and hands. ladd syndrome is characterized by defects in the tear - producing lacrimal system ( lacrimo - ), ear problems ( auriculo - ), dental abnormalities ( dento - ), and deformities of the fingers ( digital ). the lacrimal system consists of structures in the eye that produce and secrete tears. lacrimal system malformations that can occur with ladd syndrome include an underdeveloped or absent opening to\n",
      "Szöveg: the tear duct at the edge of the eyelid ( lacrimal puncta ) and blockage of the channel ( nasolacrimal duct ) that connects the inside corner of the eye where tears gather ( tear sac ) to the nasal cavity. these malformations of the lacrimal system can lead to chronic tearing ( epiphora ), inflammation of the tear sac ( dacryocystitis ), inflammation of the front surface of the eye ( keratoconjunctivitis ), or an inability to produce tears. ears that are low - set and described as cup - shaped, often accompanied by\n",
      "Szöveg: hearing loss, are a common feature of ladd syndrome. the hearing loss may be mild to severe and can be caused by changes in the inner ear ( sensorineural deafness ), changes in the middle ear ( conductive hearing loss ), or both ( mixed hearing loss ). people with ladd syndrome may have underdeveloped or absent salivary glands, which impairs saliva production. a decrease in saliva leads to dry mouth ( xerostomia ) and a greater susceptibility to cavities. individuals with ladd syndrome often have small, underdeveloped teeth with thin enamel and peg -\n",
      "Szöveg: shaped front teeth ( incisors ). hand deformities are also a frequent feature of ladd syndrome. affected individuals may have abnormally small or missing thumbs. alternatively, the thumb might be duplicated, fused with the index finger ( syndactyly ), abnormally placed, or have three bones instead of the normal two and resemble a finger. abnormalities of the fingers include syndactyly of the second and third fingers, extra or missing fingers, and curved pinky fingers ( fifth finger clinodactyly ). sometimes, the forearm is also affected. it can be shorter than normal with\n",
      "Szöveg: abnormal wrist and elbow joint development that limits movement. people with ladd syndrome may also experience other signs and symptoms. they can have kidney problems that include hardening of the kidneys ( nephrosclerosis ) and urine accumulation in the kidneys ( hydronephrosis ), which can impair kidney function. recurrent urinary tract infections and abnormalities of the genitourinary system can also occur. some people with ladd syndrome have an opening in the roof of the mouth ( cleft palate ) with or without a split in the upper lip ( cleft lip ). the signs and symptoms of this condition vary\n",
      "Szöveg: widely, even among affected family members.\n",
      "Szöveg: ladd syndrome appears to be a rare condition ; at least 60 cases have been described in the scientific literature.\n",
      "Szöveg: mutations in the fgfr2, fgfr3, or fgf10 gene can cause ladd syndrome. the fgfr2 and fgfr3 genes provide instructions for making proteins that are part of a family called fibroblast growth factor receptors. the fgf10 gene provides instructions for making a protein called a fibroblast growth factor, which is a family of proteins that attaches ( binds ) to fibroblast growth factor receptors. the receptors are located within the membranes of cells, where they receive signals that control growth and development from growth factors outside the cell. the signals triggered by the f\n",
      "Szöveg: ##gfr2, fgfr3, and fgf10 genes appear to stimulate cells to form the structures that make up the lacrimal glands, salivary glands, ears, skeleton, and many other organs. mutations in the fgfr2, fgfr3, or fgf10 gene alter the proteins produced from these genes and disrupt the signaling within cells. as a result, cell maturation and development is impaired and the formation of many tissues is affected, leading to the signs and symptoms of ladd syndrome.\n",
      "Szöveg: this condition is inherited in an autosomal dominant pattern, which means a mutation in one copy of the fgfr2, fgfr3, or fgf10 gene in each cell is sufficient to cause the disorder. in some cases, an affected person inherits the mutation from one affected parent. other cases result from new mutations in the gene and occur in people with no history of the disorder in their family.\n",
      "Szöveg: these resources address the diagnosis or management of lacrimo - auriculo - dento - digital syndrome : - american academy of ophthalmology : the tearing patient - cincinnati children ' s hospital : tear duct probing and irrigation - cleveland clinic : dry eyes - cleveland clinic : dry mouth treatment - genetic testing registry : levy - hollister syndrome - monroe carell jr. children ' s hospital at vanderbilt : blocked tear duct ( dacryostenosis ) these resources from medlineplus offer information about the diagnosis and management of various health conditions : - diagnostic tests - drug therapy - surgery and rehabilitation - genetic counseling - palliative\n",
      "Szöveg: care\n",
      "Szöveg: spinocerebellar ataxia type 3 ( sca3 ) is a condition characterized by progressive problems with movement. people with this condition initially experience problems with coordination and balance ( ataxia ). other early signs and symptoms of sca3 include speech difficulties, uncontrolled muscle tensing ( dystonia ), muscle stiffness ( spasticity ), rigidity, tremors, bulging eyes, and double vision. people with this condition may experience sleep disorders such as restless leg syndrome or rem sleep behavior disorder. restless leg syndrome is a condition characterized by numbness or tingling in the legs accompanied by an urge to\n",
      "Szöveg: move the legs to stop the sensations. rem sleep behavior disorder is a condition in which the muscles are active during the dream ( rem ) stage of sleep, so an affected person often acts out his or her dreams. these sleep disorders tend to leave affected individuals feeling tired during the day. over time, individuals with sca3 may develop loss of sensation and weakness in the limbs ( peripheral neuropathy ), muscle cramps, muscle twitches ( fasciculations ), and swallowing difficulties. individuals with sca3 may have problems with memory, planning, and problem solving. signs and symptoms of the disorder typically begin\n",
      "Szöveg: in mid - adulthood but can appear anytime from childhood to late adulthood. people with sca3 eventually require wheelchair assistance. they usually survive 10 to 20 years after symptoms first appear.\n",
      "Szöveg: the prevalence of sca3 is unknown. this condition is thought to be the most common type of spinocerebellar ataxia ; however, all types of spinocerebellar ataxia are relatively rare.\n",
      "Szöveg: mutations in the atxn3 gene cause sca3. the atxn3 gene provides instructions for making an enzyme called ataxin - 3, which is found in cells throughout the body. ataxin - 3 is involved in a mechanism called the ubiquitin - proteasome system that destroys and gets rid of excess or damaged proteins. the molecule ubiquitin is attached ( bound ) to unneeded proteins, which tags them to be broken down ( degraded ) within cells. ataxin - 3 removes the ubiquitin from these unwanted proteins just before they are degraded so that the ubiquitin can\n",
      "Szöveg: be used again. researchers believe that ataxin - 3 also may be involved in regulating the first stage of protein production ( transcription ). the atxn3 gene mutations that cause sca3 involve a dna segment known as a cag trinucleotide repeat. this segment is made up of a series of three dna building blocks ( cytosine, adenine, and guanine ) that appear multiple times in a row. normally, the cag segment is repeated 12 to 43 times within the gene. most people have fewer than 31 cag repeats. in people with sca3, the cag segment is repeated more\n",
      "Szöveg: than 50 times. people who have 44 to 52 cag repeats are described as having an \" intermediate repeat. \" these individuals may or may not develop sca3. people with 75 or fewer repeats tend to first experience signs and symptoms of sca3 in mid - adulthood, while people with around 80 repeats usually have signs and symptoms by their teens. an increase in the length of the cag segment leads to the production of an abnormally long version of the ataxin - 3 enzyme that folds into the wrong 3 - dimensional shape. this nonfunctional ataxin - 3 enzyme cannot remove ubiquitin from proteins that are\n",
      "Szöveg: no longer needed. as a result, these unwanted proteins, along with ubiquitin and ataxin - 3, cluster together to form clumps ( aggregates ) within the nucleus of the cells. it is unclear how these aggregates affect cell function, because they are found in healthy cells as well as those that die. nerve cells ( neurons ) and other types of brain cells are most affected by mutations in the atxn3 gene. sca3 is associated with cell death in the part of the brain that is connected to the spinal cord ( the brainstem ), the part of the brain involved in coordinating movements (\n",
      "Szöveg: the cerebellum ), and other areas of the brain. this condition is also associated with the death of neurons in the spinal cord. over time, the loss of cells in the brain and spinal cord cause the signs and symptoms characteristic of sca3.\n",
      "Szöveg: this condition is inherited in an autosomal dominant pattern, which means one copy of the altered gene in each cell is sufficient to cause the disorder. in most cases, an affected person has one parent with the condition. as the altered atxn3 gene is passed down from one generation to the next, the length of the cag trinucleotide repeat often increases. a larger number of repeats is usually associated with an earlier onset of signs and symptoms. this phenomenon is called anticipation. anticipation tends to be more prominent when the atxn3 gene is inherited from a person ' s father ( paternal inheritance ) than when it is\n",
      "Szöveg: inherited from a person ' s mother ( maternal inheritance ). in rare cases, individuals have been reported with expanded cag repeats on both copies of the atxn3 gene in each cell. these people have more severe signs and symptoms than people with only one mutation, and features of the condition appear in childhood.\n",
      "Szöveg: these resources address the diagnosis or management of sca3 : - gene review : gene review : spinocerebellar ataxia type 3 - genetic testing registry : azorean disease these resources from medlineplus offer information about the diagnosis and management of various health conditions : - diagnostic tests - drug therapy - surgery and rehabilitation - genetic counseling - palliative care\n",
      "Szöveg: pilomatricoma, also known as pilomatrixoma, is a type of noncancerous ( benign ) skin tumor associated with hair follicles. hair follicles are specialized structures in the skin where hair growth occurs. pilomatricomas occur most often on the head or neck, although they can also be found on the arms, torso, or legs. a pilomatricoma feels like a small, hard lump under the skin. this type of tumor grows relatively slowly and usually does not cause pain or other symptoms. most affected individuals have a single tumor, although rarely multiple pilomat\n",
      "Szöveg: ##ricomas can occur. if a pilomatricoma is removed surgically, it tends not to grow back ( recur ). most pilomatricomas occur in people under the age of 20. however, these tumors can also appear later in life. almost all pilomatricomas are benign, but a very small percentage are cancerous ( malignant ). unlike the benign form, the malignant version of this tumor ( known as a pilomatrix carcinoma ) occurs most often in middle age or late in life. pilomatricoma usually occurs without other signs or symptoms (\n",
      "Szöveg: isolated ), but this type of tumor has also rarely been reported with inherited conditions. disorders that can be associated with pilomatricoma include gardner syndrome, which is characterized by multiple growths ( polyps ) and cancers of the colon and rectum ; myotonic dystrophy, which is a form of muscular dystrophy ; and rubinstein - taybi syndrome, which is a condition that affects many parts of the body and is associated with an increased risk of both benign and malignant tumors.\n",
      "Szöveg: pilomatricoma is an uncommon tumor. the exact prevalence is unknown, but pilomatricoma probably accounts for less than 1 percent of all benign skin tumors.\n",
      "Szöveg: mutations in the ctnnb1 gene are found in almost all cases of isolated pilomatricoma. these mutations are somatic, which means they are acquired during a person ' s lifetime and are present only in tumor cells. somatic mutations are not inherited. the ctnnb1 gene provides instructions for making a protein called beta - catenin. this protein plays an important role in sticking cells together ( cell adhesion ) and in communication between cells. it is also involved in cell signaling as part of the wnt signaling pathway. this pathway promotes the growth and division ( proliferation ) of cells and helps determine the specialized functions\n",
      "Szöveg: a cell will have ( differentiation ). wnt signaling is involved in many aspects of development before birth, as well as the maintenance and repair of adult tissues. among its many activities, beta - catenin appears to be necessary for the normal function of hair follicles. this protein is active in cells that make up a part of the hair follicle known as the matrix. these cells divide and mature to form the different components of the hair follicle and the hair shaft. as matrix cells divide, the hair shaft is pushed upward and extends beyond the skin. mutations in the ctnnb1 gene lead to a version\n",
      "Szöveg: of beta - catenin that is always turned on ( constitutively active ). the overactive protein triggers matrix cells to divide too quickly and in an uncontrolled way, leading to the formation of a pilomatricoma. most pilomatrix carcinomas, the malignant version of pilomatricoma, also have somatic mutations in the ctnnb1 gene. it is unclear why some pilomatricomas are cancerous but most others are not.\n",
      "Szöveg: most people with isolated pilomatricoma do not have any other affected family members. however, rare families with multiple affected members have been reported. in these cases, the inheritance pattern of the condition ( if any ) is unknown.\n",
      "Szöveg: these resources address the diagnosis or management of pilomatricoma : - genetic testing registry : pilomatrixoma these resources from medlineplus offer information about the diagnosis and management of various health conditions : - diagnostic tests - drug therapy - surgery and rehabilitation - genetic counseling - palliative care\n",
      "Szöveg: stickler syndrome is a group of hereditary conditions characterized by a distinctive facial appearance, eye abnormalities, hearing loss, and joint problems. these signs and symptoms vary widely among affected individuals. a characteristic feature of stickler syndrome is a somewhat flattened facial appearance. this appearance results from underdeveloped bones in the middle of the face, including the cheekbones and the bridge of the nose. a particular group of physical features called pierre robin sequence is also common in people with stickler syndrome. pierre robin sequence includes an opening in the roof of the mouth ( a cleft palate ), a tongue that is placed further back than normal ( glossop\n",
      "Szöveg: ##tosis ), and a small lower jaw ( micrognathia ). this combination of features can lead to feeding problems and difficulty breathing. many people with stickler syndrome have severe nearsightedness ( high myopia ). in some cases, the clear gel that fills the eyeball ( the vitreous ) has an abnormal appearance, which is noticeable during an eye examination. other eye problems are also common, including increased pressure within the eye ( glaucoma ), clouding of the lens of the eyes ( cataracts ), and tearing of the lining of the eye ( retinal detachment ). these\n",
      "Szöveg: eye abnormalities cause impaired vision or blindness in some cases. in people with stickler syndrome, hearing loss varies in degree and may become more severe over time. the hearing loss may be sensorineural, meaning that it results from changes in the inner ear, or conductive, meaning that it is caused by abnormalities of the middle ear. most people with stickler syndrome have skeletal abnormalities that affect the joints. the joints of affected children and young adults may be loose and very flexible ( hypermobile ), though joints become less flexible with age. arthritis often appears early in life and may cause joint pain or stiffness. problems with the bones of\n",
      "Szöveg: the spine ( vertebrae ) can also occur, including abnormal curvature of the spine ( scoliosis or kyphosis ) and flattened vertebrae ( platyspondyly ). these spinal abnormalities may cause back pain. researchers have described several types of stickler syndrome, which are distinguished by their genetic causes and their patterns of signs and symptoms. in particular, the eye abnormalities and severity of hearing loss differ among the types. type i has the highest risk of retinal detachment. type ii also includes eye abnormalities, but type iii does not ( and is often called non - ocular stickler syndrome ). types ii and iii are\n",
      "Szöveg: more likely than type i to have significant hearing loss. types iv, v, and vi are very rare and have each been diagnosed in only a few individuals. a condition similar to stickler syndrome, called marshall syndrome, is characterized by a distinctive facial appearance, eye abnormalities, hearing loss, and early - onset arthritis. marshall syndrome can also include short stature. some researchers have classified marshall syndrome as a variant of stickler syndrome, while others consider it to be a separate disorder.\n",
      "Szöveg: stickler syndrome affects an estimated 1 in 7, 500 to 9, 000 newborns. type i is the most common form of the condition.\n",
      "Szöveg: mutations in several genes cause the different types of stickler syndrome. between 80 and 90 percent of all cases are classified as type i and are caused by mutations in the col2a1 gene. another 10 to 20 percent of cases are classified as type ii and result from mutations in the col11a1 gene. marshall syndrome, which may be a variant of stickler syndrome, is also caused by col11a1 gene mutations. stickler syndrome types iii through vi result from mutations in other, related genes. all of the genes associated with stickler syndrome provide instructions for making components of collagens, which are complex molecules that give structure and strength\n",
      "Szöveg: to the connective tissues that support the body ' s joints and organs. mutations in any of these genes impair the production, processing, or assembly of collagen molecules. defective collagen molecules or reduced amounts of collagen impair the development of connective tissues in many different parts of the body, leading to the varied features of stickler syndrome. not all individuals with stickler syndrome have mutations in one of the known genes. researchers believe that mutations in other genes may also cause this condition, but those genes have not been identified.\n",
      "Szöveg: stickler syndrome types i, ii, and iii are inherited in an autosomal dominant pattern, which means one copy of the altered gene in each cell is sufficient to cause the disorder. in some cases, an affected person inherits a gene mutation from one affected parent. other cases result from new mutations. these cases occur in people with no history of stickler syndrome in their family. marshall syndrome also typically has an autosomal dominant pattern of inheritance. stickler syndrome types iv, v, and vi are inherited in an autosomal recessive pattern. autosomal recessive inheritance means both copies of the gene in each cell\n",
      "Szöveg: have mutations. the parents of an individual with an autosomal recessive condition each carry one copy of the mutated gene, but they typically do not show signs and symptoms of the condition.\n",
      "Szöveg: these resources address the diagnosis or management of stickler syndrome : - gene review : gene review : stickler syndrome - genetic testing registry : marshall syndrome - genetic testing registry : stickler syndrome - medlineplus encyclopedia : pierre robin syndrome - merck manual consumer version : detachment of the retina - stickler involved people : clinical characteristics & diagnostic criteria - stickler involved people : stickler syndrome recognition, diagnosis, treatment these resources from medlineplus offer information about the diagnosis and management of various health conditions : - diagnostic tests - drug therapy - surgery and rehabilitation - genetic counseling - palliative care\n",
      "Szöveg: t - cell immunodeficiency, congenital alopecia, and nail dystrophy is a type of severe combined immunodeficiency ( scid ), which is a group of disorders characterized by an almost total lack of immune protection from foreign invaders such as bacteria and viruses. people with this form of scid are missing functional immune cells called t cells, which normally recognize and attack foreign invaders to prevent infection. without functional t cells, affected individuals develop repeated and persistent infections starting early in life. the infections result in slow growth and can be life - threatening ; without effective treatment, most affected individuals live only into infancy\n",
      "Szöveg: or early childhood. t - cell immunodeficiency, congenital alopecia, and nail dystrophy also affects growth of the hair and nails. congenital alopecia refers to an absence of hair that is apparent from birth. affected individuals have no scalp hair, eyebrows, or eyelashes. nail dystrophy is a general term that describes malformed fingernails and toenails ; in this condition, the nails are often ridged, pitted, or abnormally curved. researchers have described abnormalities of the brain and spinal cord ( central nervous system ) in at least two cases of this condition. however, it is not yet\n",
      "Szöveg: known whether central nervous system abnormalities are a common feature of t - cell immunodeficiency, congenital alopecia, and nail dystrophy.\n",
      "Szöveg: t - cell immunodeficiency, congenital alopecia, and nail dystrophy is a rare disorder. it has been diagnosed in only a few individuals, almost all of whom are members of a large extended family from a community in southern italy.\n",
      "Szöveg: t - cell immunodeficiency, congenital alopecia, and nail dystrophy results from mutations in the foxn1 gene. this gene provides instructions for making a protein that is important for development of the skin, hair, nails, and immune system. studies suggest that this protein helps guide the formation of hair follicles and the growth of fingernails and toenails. the foxn1 protein also plays a critical role in the formation of the thymus, which is a gland located behind the breastbone where t cells mature and become functional. researchers suspect that the foxn1 protein is also involved in the development\n",
      "Szöveg: of the central nervous system, although its role is unclear. mutations in the foxn1 gene prevent cells from making any functional foxn1 protein. without this protein, hair and nails cannot grow normally. a lack of foxn1 protein also prevents the formation of the thymus. when this gland is not present, the immune system cannot produce mature, functional t cells to fight infections. as a result, people with t - cell immunodeficiency, congenital alopecia, and nail dystrophy develop recurrent serious infections starting early in life.\n",
      "Szöveg: this condition is inherited in an autosomal recessive pattern, which means both copies of the gene in each cell have mutations. the parents of an individual with an autosomal recessive condition each carry one copy of the mutated gene, but they typically do not show signs and symptoms of the condition. however, some people who carry one copy of a mutated foxn1 gene have abnormal fingernails or toenails.\n",
      "Szöveg: these resources address the diagnosis or management of t - cell immunodeficiency, congenital alopecia, and nail dystrophy : - be the match : what is a bone marrow transplant? - genetic testing registry : t - cell immunodeficiency, congenital alopecia and nail dystrophy - medlineplus encyclopedia : bone marrow transplant these resources from medlineplus offer information about the diagnosis and management of various health conditions : - diagnostic tests - drug therapy - surgery and rehabilitation - genetic counseling - palliative care\n",
      "Szöveg: timothy syndrome is a rare disorder that affects many parts of the body including the heart, digits ( fingers and toes ), and the nervous system. timothy syndrome is characterized by a heart condition called long qt syndrome, which causes the heart ( cardiac ) muscle to take longer than usual to recharge between beats. this abnormality in the heart ' s electrical system can cause irregular heartbeats ( arrhythmia ), which can lead to sudden death. many people with timothy syndrome are also born with structural heart defects that affect the heart ' s ability to pump blood effectively. as a result of these serious heart problems, many people\n",
      "Szöveg: with timothy syndrome live only into childhood. the most common cause of death is a form of arrhythmia called ventricular tachyarrhythmia, in which the lower chambers of the heart ( the ventricles ) beat abnormally fast and lead to cardiac arrest. timothy syndrome is also characterized by webbing or fusion of the skin between some fingers or toes ( cutaneous syndactyly ). about half of affected people have distinctive facial features such as a flattened nasal bridge, low - set ears, a small upper jaw, and a thin upper lip. children with this condition have small, misplaced\n",
      "Szöveg: teeth and frequent cavities ( dental caries ). additional signs and symptoms of timothy syndrome can include baldness at birth, frequent infections, episodes of low blood sugar ( hypoglycemia ), and an abnormally low body temperature ( hypothermia ). researchers have found that many children with timothy syndrome have the characteristic features of autism or similar conditions known as autistic spectrum disorders. affected children tend to have impaired communication and socialization skills, as well as delayed development of speech and language. other nervous system abnormalities, including intellectual disability and seizures, can also occur in children with timothy syndrome. researchers have\n",
      "Szöveg: identified two forms of timothy syndrome. type 1, which is also known as the classic type, includes all of the characteristic features described above. type 2, or the atypical type, causes a more severe form of long qt syndrome and a greater risk of arrhythmia and sudden death. unlike the classic type, the atypical type does not appear to cause webbing of the fingers or toes.\n",
      "Szöveg: timothy syndrome is a rare condition ; fewer than 20 people with this disorder have been reported worldwide. the classic type of timothy syndrome appears to be more common than the atypical type, which has been identified in only two individuals.\n",
      "Szöveg: mutations in the cacna1c gene are responsible for all reported cases of timothy syndrome. this gene provides instructions for making a protein that acts as a channel across cell membranes. this channel, known as cav1. 2, is one of several channels that transport positively charged calcium atoms ( calcium ions ) into cells. calcium ions are involved in many different cellular functions, including cell - to - cell communication, the tensing of muscle fibers ( muscle contraction ), and the regulation of certain genes. cav1. 2 calcium channels are particularly important for the normal function of heart and brain cells. in cardiac muscle, these channels play\n",
      "Szöveg: a critical role in maintaining the heart ' s normal rhythm. their role in the brain and in other tissues is less clear. mutations in the cacna1c gene change the structure of cav1. 2 channels. the altered channels stay open much longer than usual, which allows calcium ions to continue flowing into cells abnormally. the resulting overload of calcium ions within cardiac muscle cells changes the way the heart beats and can cause arrhythmia. researchers are working to determine how an increase in calcium ion transport in other tissues, including cells in the brain, underlies the other features of timothy syndrome.\n",
      "Szöveg: this condition is considered to have an autosomal dominant pattern of inheritance, which means one copy of the altered cacna1c gene in each cell is sufficient to cause the disorder. most cases result from new mutations in the gene, and occur in people with no history of the disorder in their family. less commonly, people with timothy syndrome inherit the altered gene from an unaffected parent who is mosaic for a cacna1c mutation. mosaicism means that the parent has the mutation in some cells ( including egg or sperm cells ), but not in others.\n",
      "Szöveg: these resources address the diagnosis or management of timothy syndrome : - gene review : gene review : timothy syndrome - genetic testing registry : timothy syndrome - medlineplus encyclopedia : arrhythmias - medlineplus encyclopedia : congenital heart disease - medlineplus encyclopedia : webbing of the fingers or toes these resources from medlineplus offer information about the diagnosis and management of various health conditions : - diagnostic tests - drug therapy - surgery and rehabilitation - genetic counseling - palliative care\n",
      "Szöveg: trisomy 18, also called edwards syndrome, is a chromosomal condition associated with abnormalities in many parts of the body. individuals with trisomy 18 often have slow growth before birth ( intrauterine growth retardation ) and a low birth weight. affected individuals may have heart defects and abnormalities of other organs that develop before birth. other features of trisomy 18 include a small, abnormally shaped head ; a small jaw and mouth ; and clenched fists with overlapping fingers. due to the presence of several life - threatening medical problems, many individuals with trisomy 18 die before birth or within their first month. five to\n",
      "Szöveg: 10 percent of children with this condition live past their first year, and these children often have severe intellectual disability.\n",
      "Szöveg: trisomy 18 occurs in about 1 in 5, 000 live - born infants ; it is more common in pregnancy, but many affected fetuses do not survive to term. although women of all ages can have a child with trisomy 18, the chance of having a child with this condition increases as a woman gets older.\n",
      "Szöveg: most cases of trisomy 18 result from having three copies of chromosome 18 in each cell in the body instead of the usual two copies. the extra genetic material disrupts the normal course of development, causing the characteristic features of trisomy 18. approximately 5 percent of people with trisomy 18 have an extra copy of chromosome 18 in only some of the body ' s cells. in these people, the condition is called mosaic trisomy 18. the severity of mosaic trisomy 18 depends on the type and number of cells that have the extra chromosome. the development of individuals with this form of trisomy 18 may range from\n",
      "Szöveg: normal to severely affected. very rarely, part of the long ( q ) arm of chromosome 18 becomes attached ( translocated ) to another chromosome during the formation of reproductive cells ( eggs and sperm ) or very early in embryonic development. affected individuals have two copies of chromosome 18, plus the extra material from chromosome 18 attached to another chromosome. people with this genetic change are said to have partial trisomy 18. if only part of the q arm is present in three copies, the physical signs of partial trisomy 18 may be less severe than those typically seen in trisomy 18. if the entire q arm is present in\n",
      "Szöveg: three copies, individuals may be as severely affected as if they had three full copies of chromosome 18.\n",
      "Szöveg: most cases of trisomy 18 are not inherited, but occur as random events during the formation of eggs and sperm. an error in cell division called nondisjunction results in a reproductive cell with an abnormal number of chromosomes. for example, an egg or sperm cell may gain an extra copy of chromosome 18. if one of these atypical reproductive cells contributes to the genetic makeup of a child, the child will have an extra chromosome 18 in each of the body ' s cells. mosaic trisomy 18 is also not inherited. it occurs as a random event during cell division early in embryonic development. as a result, some\n",
      "Szöveg: of the body ' s cells have the usual two copies of chromosome 18, and other cells have three copies of this chromosome. partial trisomy 18 can be inherited. an unaffected person can carry a rearrangement of genetic material between chromosome 18 and another chromosome. this rearrangement is called a balanced translocation because there is no extra material from chromosome 18. although they do not have signs of trisomy 18, people who carry this type of balanced translocation are at an increased risk of having children with the condition.\n",
      "Szöveg: these resources address the diagnosis or management of trisomy 18 : - genetic testing registry : complete trisomy 18 syndrome - medlineplus encyclopedia : trisomy 18 these resources from medlineplus offer information about the diagnosis and management of various health conditions : - diagnostic tests - drug therapy - surgery and rehabilitation - genetic counseling - palliative care\n",
      "Szöveg: aicardi - goutieres syndrome is a disorder that mainly affects the brain, the immune system, and the skin. most newborns with aicardi - goutieres syndrome do not show any signs or symptoms of the disorder at birth. however, about 20 percent are born with a combination of features that include an enlarged liver and spleen ( hepatosplenomegaly ), elevated blood levels of liver enzymes, a decrease in blood platelets ( thrombocytopenia ), and abnormal neurological responses. while this combination of signs and symptoms is typically associated with the immune system ' s response to congenital viral\n",
      "Szöveg: infection, no actual infection is found in these infants. for this reason, aicardi - goutieres syndrome is sometimes referred to as a \" mimic of congenital infection. \" within the first year of life most individuals with aicardi - goutieres syndrome experience an episode of severe brain dysfunction ( encephalopathy ), typically lasting for several months. during this phase of the disorder, affected babies are usually extremely irritable and do not feed well. they may develop intermittent fevers in the absence of infection ( sterile pyrexias ) and may have seizures. they stop developing new skills and begin losing skills they\n",
      "Szöveg: had already acquired ( developmental regression ). growth of the brain and skull slows down, resulting in an abnormally small head size ( microcephaly ). in this phase of the disorder, white blood cells and molecules associated with inflammation can be detected in the cerebrospinal fluid, which is the fluid that surrounds the brain and spinal cord ( central nervous system ). these abnormal findings are consistent with inflammation and tissue damage in the central nervous system. the encephalopathic phase of aicardi - goutieres syndrome leaves behind permanent neurological damage that is usually severe. medical imaging reveals deterioration of white matter in the\n",
      "Szöveg: brain ( leukodystrophy ). white matter consists of nerve fibers covered by myelin, which is a substance that insulates and protects nerves. affected individuals also have abnormal deposits of calcium ( calcification ) in the brain. most people with aicardi - goutieres syndrome have profound intellectual disability. they also have significant neuromuscular problems including muscle stiffness ( spasticity ) ; involuntary tensing of various muscles ( dystonia ), especially those in the arms ; and weak muscle tone ( hypotonia ) in the trunk. about 40 percent of people with aicardi - gouti\n",
      "Szöveg: ##eres syndrome have painful, itchy skin lesions, usually on the fingers, toes, and ears. these puffy, red lesions, which are called chilblains, are caused by inflammation of small blood vessels. they may be brought on or made worse by exposure to cold. vision problems, joint stiffness, and mouth ulcers may also occur in this disorder. as a result of the severe neurological problems usually associated with aicardi - goutieres syndrome, most people with this disorder do not survive past childhood. however, some affected individuals who have later onset and milder neurological problems may live into adulthood.\n",
      "Szöveg: aicardi - goutieres syndrome is a rare disorder. its exact prevalence is unknown.\n",
      "Szöveg: mutations in the trex1, rnaseh2a, rnaseh2b, rnaseh2c, and samhd1 genes have been identified in people with aicardi - goutieres syndrome. the trex1, rnaseh2a, rnaseh2b, and rnaseh2c genes provide instructions for making nucleases, which are enzymes that help break up molecules of dna and its chemical cousin rna. mutations in any of these genes are believed to result in an absent or dysfunctional nuclease enzyme. researchers suggest that absent or impaired enzyme function may result in the accumulation\n",
      "Szöveg: of unneeded dna and rna in cells. these dna and rna molecules or fragments may be generated during the first stage of protein production ( transcription ), copying ( replication ) of cells ' genetic material in preparation for cell division, dna repair, cell death, and other processes. the unneeded dna and rna may be mistaken by cells for that of viral invaders, triggering immune system reactions that result in encephalopathy, skin lesions, and other signs and symptoms of aicardi - goutieres syndrome. the samhd1 gene provides instructions for making a protein whose function is not well understood ; however, it is believed\n",
      "Szöveg: to be involved in the immune system and the inflammatory process. mutations in this gene likely result in a protein that does not function properly, resulting in immune system abnormalities, inflammatory damage to the brain and skin, and other characteristics of aicardi - goutieres syndrome.\n",
      "Szöveg: aicardi - goutieres syndrome can have different inheritance patterns. in most cases it is inherited in an autosomal recessive pattern, which means both copies of the gene in each cell have mutations. the parents of an individual with an autosomal recessive condition each carry one copy of the mutated gene, but they typically do not show signs and symptoms of the condition. rarely, this condition is inherited in an autosomal dominant pattern, which means one copy of the altered gene in each cell is sufficient to cause the disorder. these cases result from new mutations in the gene and occur in people with no history of the\n",
      "Szöveg: disorder in their family.\n",
      "Szöveg: these resources address the diagnosis or management of aicardi - goutieres syndrome : - gene review : gene review : aicardi - goutieres syndrome - genetic testing registry : aicardi goutieres syndrome - genetic testing registry : aicardi goutieres syndrome 1 - genetic testing registry : aicardi goutieres syndrome 2 - genetic testing registry : aicardi goutieres syndrome 3 - genetic testing registry : aicardi goutieres syndrome 4 - genetic testing registry : aicardi goutieres syndrome 5 these resources from medlineplus offer information about the diagnosis and management of various health conditions :\n",
      "Szöveg: - diagnostic tests - drug therapy - surgery and rehabilitation - genetic counseling - palliative care\n",
      "Szöveg: aarskog - scott syndrome is a genetic disorder that affects the development of many parts of the body. this condition mainly affects males, although females may have mild features of the syndrome. people with aarskog - scott syndrome often have distinctive facial features, such as widely spaced eyes ( hypertelorism ), a small nose, a long area between the nose and mouth ( philtrum ), and a widow ' s peak hairline. they frequently have mild to moderate short stature during childhood, but their growth usually catches up during puberty. hand abnormalities are common in this syndrome and include short fingers ( brachydactyly\n",
      "Szöveg: ), curved pinky fingers ( fifth finger clinodactyly ), webbing of the skin between some fingers ( syndactyly ), and a single crease across the palm. some people with aarskog - scott syndrome are born with more serious abnormalities, such as heart defects or a cleft lip with or without an opening in the roof of the mouth ( cleft palate ). most males with aarskog - scott syndrome have a shawl scrotum, in which the scrotum surrounds the penis. less often, they have undescended testes ( cryptorchidis\n",
      "Szöveg: ##m ) or a soft out - pouching around the belly - button ( umbilical hernia ) or in the lower abdomen ( inguinal hernia ). the intellectual development of people with aarskog - scott syndrome varies widely among affected individuals. some may have mild learning and behavior problems, while others have normal intelligence. in rare cases, severe intellectual disability has been reported.\n",
      "Szöveg: aarskog - scott syndrome is believed to be a rare disorder ; however, its prevalence is unknown because mildly affected people are often not diagnosed.\n",
      "Szöveg: mutations in the fgd1 gene cause some cases of aarskog - scott syndrome. the fgd1 gene provides instructions for making a protein that turns on ( activates ) another protein called cdc42, which transmits signals that are important for various aspects of embryonic development. mutations in the fgd1 gene lead to the production of an abnormally functioning protein. these mutations disrupt cdc42 signaling, which causes the wide variety of developmental abnormalities seen in aarskog - scott syndrome. only about 20 percent of people with this disorder have identifiable mutations in the fgd1 gene. the cause of aarskog\n",
      "Szöveg: - scott syndrome in other affected individuals is unknown.\n",
      "Szöveg: aarskog - scott syndrome is inherited in an x - linked recessive pattern. the gene associated with this condition is located on the x chromosome, which is one of the two sex chromosomes. in males ( who have only one x chromosome ), one altered copy of the gene in each cell is sufficient to cause the condition. in females ( who have two x chromosomes ), a mutation would have to occur in both copies of the gene to cause aarskog - scott syndrome. because it is unlikely that females will have two altered copies of this gene, males are affected by x - linked recessive disorders much more frequently than females.\n",
      "Szöveg: females who carry one altered copy of the fgd1 gene may show mild signs of the condition, such as hypertelorism, short stature, or a widow ' s peak hairline. a characteristic of x - linked inheritance is that fathers cannot pass x - linked traits to their sons.\n",
      "Szöveg: these resources address the diagnosis or management of aarskog - scott syndrome : - genetic testing registry : aarskog syndrome - medlineplus encyclopedia : aarskog syndrome these resources from medlineplus offer information about the diagnosis and management of various health conditions : - diagnostic tests - drug therapy - surgery and rehabilitation - genetic counseling - palliative care\n",
      "Szöveg: pallister - hall syndrome is a disorder that affects the development of many parts of the body. most people with this condition have extra fingers and / or toes ( polydactyly ), and the skin between some fingers or toes may be fused ( cutaneous syndactyly ). an abnormal growth in the brain called a hypothalamic hamartoma is characteristic of this disorder. in many cases, these growths do not cause any medical problems ; however, some hypothalamic hamartomas lead to seizures or hormone abnormalities that can be life - threatening in infancy. other features of pal\n",
      "Szöveg: ##lister - hall syndrome include a malformation of the airway called a bifid epiglottis, an obstruction of the anal opening ( imperforate anus ), and kidney abnormalities. although the signs and symptoms of this disorder vary from mild to severe, only a small percentage of affected people have serious complications.\n",
      "Szöveg: this condition is very rare ; its prevalence is unknown.\n",
      "Szöveg: mutations in the gli3 gene cause pallister - hall syndrome. the gli3 gene provides instructions for making a protein that controls gene expression, which is a process that regulates whether genes are turned on or off in particular cells. by interacting with certain genes at specific times during development, the gli3 protein plays a role in the normal shaping ( patterning ) of many organs and tissues before birth. mutations that cause pallister - hall syndrome typically lead to the production of an abnormally short version of the gli3 protein. unlike the normal gli3 protein, which can turn target genes on or off, the\n",
      "Szöveg: short protein can only turn off ( repress ) target genes. researchers are working to determine how this change in the protein ' s function affects early development. it remains uncertain how gli3 mutations can cause polydactyly, hypothalamic hamartoma, and the other features of pallister - hall syndrome.\n",
      "Szöveg: this condition is inherited in an autosomal dominant pattern, which means one copy of the altered gene in each cell is sufficient to cause the disorder. in some cases, an affected person inherits a mutation in the gli3 gene from one affected parent. other cases result from new mutations in the gene and occur in people with no history of the disorder in their family.\n",
      "Szöveg: these resources address the diagnosis or management of pallister - hall syndrome : - gene review : gene review : pallister - hall syndrome - genetic testing registry : pallister - hall syndrome - medlineplus encyclopedia : epiglottis ( image ) - medlineplus encyclopedia : imperforate anus - medlineplus encyclopedia : polydactyly these resources from medlineplus offer information about the diagnosis and management of various health conditions : - diagnostic tests - drug therapy - surgery and rehabilitation - genetic counseling - palliative care\n",
      "Szöveg: parkinson disease is a progressive disorder of the nervous system. the disorder affects several regions of the brain, especially an area called the substantia nigra that controls balance and movement. often the first symptom of parkinson disease is trembling or shaking ( tremor ) of a limb, especially when the body is at rest. typically, the tremor begins on one side of the body, usually in one hand. tremors can also affect the arms, legs, feet, and face. other characteristic symptoms of parkinson disease include rigidity or stiffness of the limbs and torso, slow movement ( bradykinesia ) or an inability to move (\n",
      "Szöveg: akinesia ), and impaired balance and coordination ( postural instability ). these symptoms worsen slowly over time. parkinson disease can also affect emotions and thinking ability ( cognition ). some affected individuals develop psychiatric conditions such as depression and visual hallucinations. people with parkinson disease also have an increased risk of developing dementia, which is a decline in intellectual functions including judgment and memory. generally, parkinson disease that begins after age 50 is called late - onset disease. the condition is described as early - onset disease if signs and symptoms begin before age 50. early - onset cases that begin before age 20 are sometimes referred to as juvenile - onset\n",
      "Szöveg: parkinson disease.\n",
      "Szöveg: parkinson disease affects more than 1 million people in north america and more than 4 million people worldwide. in the united states, parkinson disease occurs in approximately 13 per 100, 000 people, and about 60, 000 new cases are identified each year. the late - onset form is the most common type of parkinson disease, and the risk of developing this condition increases with age. because more people are living longer, the number of people with this disease is expected to increase in coming decades.\n",
      "Szöveg: most cases of parkinson disease probably result from a complex interaction of environmental and genetic factors. these cases are classified as sporadic and occur in people with no apparent history of the disorder in their family. the cause of these sporadic cases remains unclear. approximately 15 percent of people with parkinson disease have a family history of this disorder. familial cases of parkinson disease can be caused by mutations in the lrrk2, park2, park7, pink1, or snca gene, or by alterations in genes that have not been identified. mutations in some of these genes may also play a role in cases that appear to be sporadic ( not\n",
      "Szöveg: inherited ). alterations in certain genes, including gba and uchl1, do not cause parkinson disease but appear to modify the risk of developing the condition in some families. variations in other genes that have not been identified probably also contribute to parkinson disease risk. it is not fully understood how genetic changes cause parkinson disease or influence the risk of developing the disorder. many parkinson disease symptoms occur when nerve cells ( neurons ) in the substantia nigra die or become impaired. normally, these cells produce a chemical messenger called dopamine, which transmits signals within the brain to produce smooth physical movements. when these dopamine - producing\n",
      "Szöveg: neurons are damaged or die, communication between the brain and muscles weakens. eventually, the brain becomes unable to control muscle movement. some gene mutations appear to disturb the cell machinery that breaks down ( degrades ) unwanted proteins in dopamine - producing neurons. as a result, undegraded proteins accumulate, leading to the impairment or death of these cells. other mutations may affect the function of mitochondria, the energy - producing structures within cells. as a byproduct of energy production, mitochondria make unstable molecules called free radicals that can damage cells. cells normally counteract the effects of free radicals\n",
      "Szöveg: before they cause damage, but mutations can disrupt this process. as a result, free radicals may accumulate and impair or kill dopamine - producing neurons. in most cases of parkinson disease, protein deposits called lewy bodies appear in dead or dying dopamine - producing neurons. ( when lewy bodies are not present, the condition is sometimes referred to as parkinsonism. ) it is unclear whether lewy bodies play a role in killing nerve cells or if they are part of the cells ' response to the disease.\n",
      "Szöveg: most cases of parkinson disease occur in people with no apparent family history of the disorder. these sporadic cases may not be inherited, or they may have an inheritance pattern that is unknown. among familial cases of parkinson disease, the inheritance pattern differs depending on the gene that is altered. if the lrrk2 or snca gene is involved, the disorder is inherited in an autosomal dominant pattern, which means one copy of an altered gene in each cell is sufficient to cause the disorder. in most cases, an affected person has one parent with the condition. if the park2, park7, or pink1 gene is\n",
      "Szöveg: involved, parkinson disease is inherited in an autosomal recessive pattern. this type of inheritance means that two copies of the gene in each cell are altered. most often, the parents of an individual with autosomal recessive parkinson disease each carry one copy of the altered gene but do not show signs and symptoms of the disorder. when genetic alterations modify the risk of developing parkinson disease, the inheritance pattern is usually unknown.\n",
      "Szöveg: these resources address the diagnosis or management of parkinson disease : - gene review : gene review : parkinson disease overview - genetic testing registry : parkinson disease 1 - genetic testing registry : parkinson disease 10 - genetic testing registry : parkinson disease 11 - genetic testing registry : parkinson disease 12 - genetic testing registry : parkinson disease 13 - genetic testing registry : parkinson disease 14 - genetic testing registry : parkinson disease 15 - genetic testing registry : parkinson disease 16 - genetic testing registry : parkinson disease 17 - genetic testing registry : parkinson disease 18 - genetic testing registry : parkinson disease 2 - genetic testing registry : parkinson disease 3 - genetic testing registry : parkinson disease 4 - genetic testing\n",
      "Szöveg: registry : parkinson disease 5 - genetic testing registry : parkinson disease 6, autosomal recessive early - onset - genetic testing registry : parkinson disease 7 - genetic testing registry : parkinson disease 8, autosomal dominant - genetic testing registry : parkinson disease, late - onset - genetic testing registry : parkinson disease, mitochondrial - medlineplus encyclopedia : parkinson ' s disease - michael j. fox foundation for parkinson ' s research : what drugs are used to treat parkinson ' s disease and how do they work? - national institute of neurological disorders and stroke : deep brain stimulation for parkinson ' s disease - parkinson ' s disease foundation : diagnosis -\n",
      "Szöveg: parkinson ' s disease foundation : medications & treatments these resources from medlineplus offer information about the diagnosis and management of various health conditions : - diagnostic tests - drug therapy - surgery and rehabilitation - genetic counseling - palliative care\n",
      "Szöveg: adcy5 - related dyskinesia is a movement disorder ; the term \" dyskinesia \" refers to abnormal involuntary movements. the abnormal movements that occur in adcy5 - related dyskinesia typically appear as sudden ( paroxysmal ) jerks, twitches, tremors, muscle tensing ( dystonia ), or writhing ( choreiform ) movements, and can affect the limbs, neck, and face. the abnormal movements associated with adcy5 - related dyskinesia usually begin between infancy and late adolescence. they can occur continually during waking hours and in some cases\n",
      "Szöveg: also during sleep. severely affected infants may experience weak muscle tone ( hypotonia ) and delay in development of motor skills such as crawling and walking ; these individuals may have difficulties with activities of daily living and may eventually require a wheelchair. in more mildly affected individuals, the condition has little impact on walking and other motor skills, although the abnormal movements can lead to clumsiness or difficulty with social acceptance in school or other situations. in some people with adcy5 - related dyskinesia, the disorder is generally stable throughout their lifetime. in others, it slowly gets worse ( progresses ) in both frequency and severity before stab\n",
      "Szöveg: ##ilizing or even improving in middle age. anxiety, fatigue, and other stress can temporarily increase the severity of the signs and symptoms of adcy5 - related dyskinesia, while some affected individuals may experience remission periods of days or weeks without abnormal movements. life expectancy and intelligence are unaffected by this disorder.\n",
      "Szöveg: the prevalence of adcy5 - related dyskinesia is unknown. at least 50 affected individuals have been described in the medical literature.\n",
      "Szöveg: as its name suggests, adcy5 - related dyskinesia is caused by mutations in the adcy5 gene. this gene provides instructions for making an enzyme called adenylate cyclase 5. this enzyme helps convert a molecule called adenosine triphosphate ( atp ) to another molecule called cyclic adenosine monophosphate ( camp ). atp is a molecule that supplies energy for cells ' activities, including muscle contraction, and camp is involved in signaling for many cellular functions. some adcy5 gene mutations that cause adcy5 - related dyskinesia are thought to increase adenylate cy\n",
      "Szöveg: ##clase 5 enzyme activity and the level of camp within cells. others prevent production of adenylate cyclase 5. it is unclear how either type of mutation leads to the abnormal movements that occur in this disorder.\n",
      "Szöveg: this condition is inherited in an autosomal dominant pattern, which means one copy of the altered gene in each cell is sufficient to cause the disorder. in some cases, an affected person inherits the mutation from one affected parent. other cases result from new mutations in the gene and occur in people with no history of the disorder in their family.\n",
      "Szöveg: these resources address the diagnosis or management of adcy5 - related dyskinesia : - gene review : gene review : adcy5 - related dyskinesia - genetic testing registry : dyskinesia, familial, with facial myokymia - national ataxia foundation : movement disorder clinics these resources from medlineplus offer information about the diagnosis and management of various health conditions : - diagnostic tests - drug therapy - surgery and rehabilitation - genetic counseling - palliative care\n",
      "Szöveg: proopiomelanocortin ( pomc ) deficiency causes severe obesity that begins at an early age. in addition to obesity, people with this condition have low levels of a hormone known as adrenocorticotropic hormone ( acth ) and tend to have red hair and pale skin. affected infants are usually a normal weight at birth, but they are constantly hungry, which leads to excessive feeding ( hyperphagia ). the babies continuously gain weight and are severely obese by age 1. affected individuals experience excessive hunger and remain obese for life. it is unclear if these individuals are prone to weight - related conditions like\n",
      "Szöveg: cardiovascular disease or type 2 diabetes. low levels of acth lead to a condition called adrenal insufficiency, which occurs when the pair of small glands on top of the kidneys ( the adrenal glands ) do not produce enough hormones. adrenal insufficiency often results in periods of severely low blood sugar ( hypoglycemia ) in people with pomc deficiency, which can cause seizures, elevated levels of a toxic substance called bilirubin in the blood ( hyperbilirubinemia ), and a reduced ability to produce and release a digestive fluid called bile ( choles\n",
      "Szöveg: ##tasis ). without early treatment, adrenal insufficiency can be fatal. pale skin that easily burns when exposed to the sun and red hair are common in pomc deficiency, although not everyone with the condition has these characteristics.\n",
      "Szöveg: pomc deficiency is a rare condition ; approximately 50 cases have been reported in the medical literature.\n",
      "Szöveg: pomc deficiency is caused by mutations in the pomc gene, which provides instructions for making the proopiomelanocortin protein. this protein is cut ( cleaved ) into smaller pieces called peptides that have different functions in the body. one of these peptides, acth, stimulates the release of another hormone called cortisol from the adrenal glands. cortisol is involved in the maintenance of blood sugar levels. another peptide, alpha - melanocyte stimulating hormone ( - msh ), plays a role in the production of the pigment that gives skin and hair their color. the - ms\n",
      "Szöveg: ##h peptide and another peptide called beta - melanocyte stimulating hormone ( - msh ) act in the brain to help maintain the balance between energy from food taken into the body and energy spent by the body. the correct balance is important to control eating and weight. pomc gene mutations that cause pomc deficiency result in production of an abnormally short version of the pomc protein or no protein at all. as a result, there is a shortage of the peptides made from pomc, including acth, - msh, and - msh. without acth, there is a reduction in cortisol production, leading\n",
      "Szöveg: to adrenal insufficiency. decreased - msh in the skin reduces pigment production, resulting in the red hair and pale skin often seen in people with pomc deficiency. loss of - msh and - msh in the brain dysregulates the body ' s energy balance, leading to overeating and severe obesity. pomc deficiency is a rare cause of obesity ; pomc gene mutations are not frequently associated with more common, complex forms of obesity. researchers are studying other factors that are likely involved in these forms.\n",
      "Szöveg: pomc deficiency is inherited in an autosomal recessive pattern, which means both copies of the gene in each cell have mutations. the parents of an individual with this condition each carry one copy of the mutated gene. they typically do not have pomc deficiency, but they may have an increased risk of obesity.\n",
      "Szöveg: these resources address the diagnosis or management of proopiomelanocortin deficiency : - eunice kennedy shriver national institute of child health and human development : how are obesity and overweight diagnosed? - gene review : gene review : proopiomelanocortin deficiency - genetic testing registry : proopiomelanocortin deficiency - medlineplus encyclopedia : acth - national heart lung and blood institute : how are overweight and obesity treated? - national institutes of health clinical center : managing adrenal insufficiency these resources from medlineplus offer information about the diagnosis and management of various health conditions :\n",
      "Szöveg: - diagnostic tests - drug therapy - surgery and rehabilitation - genetic counseling - palliative care\n",
      "Szöveg: primary ciliary dyskinesia is a disorder characterized by chronic respiratory tract infections, abnormally positioned internal organs, and the inability to have children ( infertility ). the signs and symptoms of this condition are caused by abnormal cilia and flagella. cilia are microscopic, finger - like projections that stick out from the surface of cells. they are found in the linings of the airway, the reproductive system, and other organs and tissues. flagella are tail - like structures, similar to cilia, that propel sperm cells forward. in the respiratory tract, cilia move back and forth in a coordinated\n",
      "Szöveg: way to move mucus towards the throat. this movement of mucus helps to eliminate fluid, bacteria, and particles from the lungs. most babies with primary ciliary dyskinesia experience breathing problems at birth, which suggests that cilia play an important role in clearing fetal fluid from the lungs. beginning in early childhood, affected individuals develop frequent respiratory tract infections. without properly functioning cilia in the airway, bacteria remain in the respiratory tract and cause infection. people with primary ciliary dyskinesia also have year - round nasal congestion and a chronic cough. chronic respiratory tract infections can result in a condition called\n",
      "Szöveg: bronchiectasis, which damages the passages, called bronchi, leading from the windpipe to the lungs and can cause life - threatening breathing problems. some individuals with primary ciliary dyskinesia have abnormally placed organs within their chest and abdomen. these abnormalities arise early in embryonic development when the differences between the left and right sides of the body are established. about 50 percent of people with primary ciliary dyskinesia have a mirror - image reversal of their internal organs ( situs inversus totalis ). for example, in these individuals the heart is on the right side of\n",
      "Szöveg: the body instead of on the left. situs inversus totalis does not cause any apparent health problems. when someone with primary ciliary dyskinesia has situs inversus totalis, they are often said to have kartagener syndrome. approximately 12 percent of people with primary ciliary dyskinesia have a condition known as heterotaxy syndrome or situs ambiguus, which is characterized by abnormalities of the heart, liver, intestines, or spleen. these organs may be structurally abnormal or improperly positioned. in addition, affected individuals may lack a sp\n",
      "Szöveg: ##leen ( asplenia ) or have multiple spleens ( polysplenia ). heterotaxy syndrome results from problems establishing the left and right sides of the body during embryonic development. the severity of heterotaxy varies widely among affected individuals. primary ciliary dyskinesia can also lead to infertility. vigorous movements of the flagella are necessary to propel the sperm cells forward to the female egg cell. because their sperm do not move properly, males with primary ciliary dyskinesia are usually unable to father children. infertility occurs in some affected females and is\n",
      "Szöveg: likely due to abnormal cilia in the fallopian tubes. another feature of primary ciliary dyskinesia is recurrent ear infections ( otitis media ), especially in young children. otitis media can lead to permanent hearing loss if untreated. the ear infections are likely related to abnormal cilia within the inner ear. rarely, individuals with primary ciliary dyskinesia have an accumulation of fluid in the brain ( hydrocephalus ), likely due to abnormal cilia in the brain.\n",
      "Szöveg: primary ciliary dyskinesia occurs in approximately 1 in 16, 000 individuals.\n",
      "Szöveg: primary ciliary dyskinesia can result from mutations in many different genes. these genes provide instructions for making proteins that form the inner structure of cilia and produce the force needed for cilia to bend. coordinated back and forth movement of cilia is necessary for the normal functioning of many organs and tissues. the movement of cilia also helps establish the left - right axis ( the imaginary line that separates the left and right sides of the body ) during embryonic development. mutations in the genes that cause primary ciliary dyskinesia result in defective cilia that move abnormally or are unable to move ( im\n",
      "Szöveg: ##motile ). because cilia have many important functions within the body, defects in these cell structures cause a variety of signs and symptoms. mutations in the dnai1 and dnah5 genes account for up to 30 percent of all cases of primary ciliary dyskinesia. mutations in the other genes associated with this condition are found in only a small percentage of cases. in many people with primary ciliary dyskinesia, the cause of the disorder is unknown.\n",
      "Szöveg: this condition is inherited in an autosomal recessive pattern, which means both copies of the gene in each cell have mutations. the parents of an individual with an autosomal recessive condition each carry one copy of the mutated gene, but they typically do not show signs and symptoms of the condition.\n",
      "Szöveg: these resources address the diagnosis or management of primary ciliary dyskinesia : - gene review : gene review : primary ciliary dyskinesia - genetic testing registry : ciliary dyskinesia, primary, 17 - genetic testing registry : kartagener syndrome - genetic testing registry : primary ciliary dyskinesia these resources from medlineplus offer information about the diagnosis and management of various health conditions : - diagnostic tests - drug therapy - surgery and rehabilitation - genetic counseling - palliative care\n",
      "Szöveg: pompe disease is an inherited disorder caused by the buildup of a complex sugar called glycogen in the body ' s cells. the accumulation of glycogen in certain organs and tissues, especially muscles, impairs their ability to function normally. researchers have described three types of pompe disease, which differ in severity and the age at which they appear. these types are known as classic infantile - onset, non - classic infantile - onset, and late - onset. the classic form of infantile - onset pompe disease begins within a few months of birth. infants with this disorder typically experience muscle\n",
      "Szöveg: weakness ( myopathy ), poor muscle tone ( hypotonia ), an enlarged liver ( hepatomegaly ), and heart defects. affected infants may also fail to gain weight and grow at the expected rate ( failure to thrive ) and have breathing problems. if untreated, this form of pompe disease leads to death from heart failure in the first year of life. the non - classic form of infantile - onset pompe disease usually appears by age 1. it is characterized by delayed motor skills ( such as rolling over and sitting ) and progressive muscle weakness. the heart may be abnormally large\n",
      "Szöveg: ( cardiomegaly ), but affected individuals usually do not experience heart failure. the muscle weakness in this disorder leads to serious breathing problems, and most children with non - classic infantile - onset pompe disease live only into early childhood. the late - onset type of pompe disease may not become apparent until later in childhood, adolescence, or adulthood. late - onset pompe disease is usually milder than the infantile - onset forms of this disorder and is less likely to involve the heart. most individuals with late - onset pompe disease experience progressive muscle weakness, especially in the legs and the trunk, including\n",
      "Szöveg: the muscles that control breathing. as the disorder progresses, breathing problems can lead to respiratory failure.\n",
      "Szöveg: pompe disease affects about 1 in 40, 000 people in the united states. the incidence of this disorder varies among different ethnic groups.\n",
      "Szöveg: mutations in the gaa gene cause pompe disease. the gaa gene provides instructions for producing an enzyme called acid alpha - glucosidase ( also known as acid maltase ). this enzyme is active in lysosomes, which are structures that serve as recycling centers within cells. the enzyme normally breaks down glycogen into a simpler sugar called glucose, which is the main energy source for most cells. mutations in the gaa gene prevent acid alpha - glucosidase from breaking down glycogen effectively, which allows this sugar to build up to toxic levels in lysosomes. this buildup damages\n",
      "Szöveg: organs and tissues throughout the body, particularly the muscles, leading to the progressive signs and symptoms of pompe disease.\n",
      "Szöveg: this condition is inherited in an autosomal recessive pattern, which means both copies of the gene in each cell have mutations. the parents of an individual with an autosomal recessive condition each carry one copy of the mutated gene, but they typically do not show signs and symptoms of the condition.\n",
      "Szöveg: these resources address the diagnosis or management of pompe disease : - baby ' s first test - gene review : gene review : glycogen storage disease type ii ( pompe disease ) - genetic testing registry : glycogen storage disease type ii, infantile - genetic testing registry : glycogen storage disease, type ii these resources from medlineplus offer information about the diagnosis and management of various health conditions : - diagnostic tests - drug therapy - surgery and rehabilitation - genetic counseling - palliative care\n",
      "Szöveg: capillary malformation - arteriovenous malformation syndrome ( cm - avm ) is a disorder of the vascular system, which is the body ' s complex network of blood vessels. the vascular system consists of arteries, which carry oxygen - rich blood from the heart to the body ' s various organs and tissues ; veins, which carry blood back to the heart ; and capillaries, which are tiny blood vessels that connect arteries and veins. cm - avm is characterized by capillary malformations ( cms ), which are composed of enlarged capillaries that increase blood flow near the surface of the\n",
      "Szöveg: skin. these malformations look like multiple small, round, pink or red spots on the skin. in most affected individuals, capillary malformations occur on the face, arms, and legs. these spots may be visible from birth or may develop during childhood. by themselves, capillary malformations usually do not cause any health problems. in some people with cm - avm, capillary malformations are the only sign of the disorder. however, other affected individuals also have more serious vascular abnormalities known as arteriovenous malformations ( avms ) and arteriovenous fistulas (\n",
      "Szöveg: avfs ). avms and avfs are abnormal connections between arteries, veins, and capillaries that affect blood circulation. depending on where they occur in the body, these abnormalities can be associated with complications including abnormal bleeding, migraine headaches, seizures, and heart failure. in some cases the complications can be life - threatening. in people with cm - avm, complications of avms and avfs tend to appear in infancy or early childhood ; however, some of these vascular abnormalities never cause any symptoms. some vascular abnormalities seen in cm - avm are similar to those that occur in a condition called parkes weber syndrome.\n",
      "Szöveg: in addition to vascular abnormalities, parkes weber syndrome usually involves overgrowth of one limb. cm - avm and some cases of parkes weber syndrome have the same genetic cause.\n",
      "Szöveg: cm - avm is thought to occur in at least 1 in 100, 000 people of northern european origin. the prevalence of the condition in other populations is unknown.\n",
      "Szöveg: cm - avm is caused by mutations in the rasa1 gene. this gene provides instructions for making a protein known as p120 - rasgap, which is involved in transmitting chemical signals from outside the cell to the nucleus. these signals help control several important cell functions, including cell growth and division ( proliferation ), the process by which cells mature to carry out specific functions ( differentiation ), and cell movement. the role of the p120 - rasgap protein is not fully understood, although it appears to be essential for the normal development of the vascular system. mutations in the rasa1 gene lead to the production of a\n",
      "Szöveg: nonfunctional version of the p120 - rasgap protein. a loss of this protein ' s activity disrupts tightly regulated chemical signaling during development. however, it is unclear how these changes lead to the specific vascular abnormalities seen in people with cm - avm.\n",
      "Szöveg: this condition is inherited in an autosomal dominant pattern, which means one copy of the altered gene in each cell is sufficient to cause the disorder. in most cases, an affected person inherits the mutation from one affected parent. other cases result from new mutations in the gene and occur in people with no history of the disorder in their family.\n",
      "Szöveg: these resources address the diagnosis or management of cm - avm : - gene review : gene review : rasa1 - related disorders - genetic testing registry : capillary malformation - arteriovenous malformation these resources from medlineplus offer information about the diagnosis and management of various health conditions : - diagnostic tests - drug therapy - surgery and rehabilitation - genetic counseling - palliative care\n",
      "Szöveg: chediak - higashi syndrome is a condition that affects many parts of the body, particularly the immune system. this disease damages immune system cells, leaving them less able to fight off invaders such as viruses and bacteria. as a result, most people with chediak - higashi syndrome have repeated and persistent infections starting in infancy or early childhood. these infections tend to be very serious or life - threatening. chediak - higashi syndrome is also characterized by a condition called oculocutaneous albinism, which causes abnormally light coloring ( pigmentation ) of the skin, hair, and eyes. affected\n",
      "Szöveg: individuals typically have fair skin and light - colored hair, often with a metallic sheen. oculocutaneous albinism also causes vision problems such as reduced sharpness ; rapid, involuntary eye movements ( nystagmus ) ; and increased sensitivity to light ( photophobia ). many people with chediak - higashi syndrome have problems with blood clotting ( coagulation ) that lead to easy bruising and abnormal bleeding. in adulthood, chediak - higashi syndrome can also affect the nervous system, causing weakness, clumsiness, difficulty with walking, and seizures. if the disease is not successfully\n",
      "Szöveg: treated, most children with chediak - higashi syndrome reach a stage of the disorder known as the accelerated phase. this severe phase of the disease is thought to be triggered by a viral infection. in the accelerated phase, white blood cells ( which normally help fight infection ) divide uncontrollably and invade many of the body ' s organs. the accelerated phase is associated with fever, episodes of abnormal bleeding, overwhelming infections, and organ failure. these medical problems are usually life - threatening in childhood. a small percentage of people with chediak - higashi syndrome have a milder form of the condition that appears later\n",
      "Szöveg: in life. people with the adult form of the disorder have less noticeable changes in pigmentation and are less likely to have recurrent, severe infections. they do, however, have a significant risk of progressive neurological problems such as tremors, difficulty with movement and balance ( ataxia ), reduced sensation and weakness in the arms and legs ( peripheral neuropathy ), and a decline in intellectual functioning.\n",
      "Szöveg: chediak - higashi syndrome is a rare disorder. about 200 cases of the condition have been reported worldwide.\n",
      "Szöveg: chediak - higashi syndrome is caused by mutations in the lyst gene. this gene provides instructions for making a protein known as the lysosomal trafficking regulator. researchers believe that this protein plays a role in the transport ( trafficking ) of materials into structures called lysosomes and similar cell structures. lysosomes act as recycling centers within cells. they use digestive enzymes to break down toxic substances, digest bacteria that invade the cell, and recycle worn - out cell components. mutations in the lyst gene impair the normal function of the lysosomal trafficking regulator protein, which disrupts the size,\n",
      "Szöveg: structure, and function of lysosomes and related structures in cells throughout the body. in many cells, the lysosomes are abnormally large and interfere with normal cell functions. for example, enlarged lysosomes in certain immune system cells prevent these cells from responding appropriately to bacteria and other foreign invaders. as a result, the malfunctioning immune system cannot protect the body from infections. in pigment cells called melanocytes, cellular structures called melanosomes ( which are related to lysosomes ) are abnormally large. melanosomes produce and distribute a pigment called melanin, which is\n",
      "Szöveg: the substance that gives skin, hair, and eyes their color. people with chediak - higashi syndrome have oculocutaneous albinism because melanin is trapped within the giant melanosomes and is unable to contribute to skin, hair, and eye pigmentation. researchers believe that abnormal lysosome - like structures inside blood cells called platelets underlie the abnormal bruising and bleeding seen in people with chediak - higashi syndrome. similarly, abnormal lysosomes in nerve cells probably cause the neurological problems associated with this disease.\n",
      "Szöveg: this condition is inherited in an autosomal recessive pattern, which means both copies of the gene in each cell have mutations. the parents of an individual with an autosomal recessive condition each carry one copy of the mutated gene, but they typically do not show signs and symptoms of the condition.\n",
      "Szöveg: these resources address the diagnosis or management of chediak - higashi syndrome : - gene review : gene review : chediak - higashi syndrome - genetic testing registry : chdiak - higashi syndrome - immune deficiency foundation : stem cell and gene therapy - international patient organisation for primary immunodeficiencies ( ipopi ) : treatments for primary immunodeficiencies : a guide for patients and their families - medlineplus encyclopedia : chediak - higashi syndrome these resources from medlineplus offer information about the diagnosis and management of various health conditions : - diagnostic tests -\n",
      "Szöveg: drug therapy - surgery and rehabilitation - genetic counseling - palliative care\n"
     ]
    }
   ],
   "source": [
    "for doc in document_chunks_fixed_length:\n",
    "    print(f\"Szöveg: {doc.text}\")"
   ]
  },
  {
   "cell_type": "code",
   "execution_count": null,
   "metadata": {},
   "outputs": [],
   "source": [
    "def create_token_based_length_vectors(texts, size_list):\n",
    "    i = 0\n",
    "    for size in tqdm(size_list, desc=f\"Creating token-based vectors size: {size_list[i]}\"):\n",
    "        documents = create_fixed_length_chunks_with_tokenizer(texts, chunk_size=size)\n",
    "        index = VectorStoreIndex.from_documents(documents, show_progress=True)\n",
    "        index.storage_context.persist(f\"../data/vectors/token_based_{size}\")\n",
    "        i += 1\n",
    "\n",
    "\n",
    "token_size_list = [512, 256, 128, 64, 32, 16]\n",
    "\n",
    "create_token_based_length_vectors(medquadcsv['answer'].tolist(), token_size_list)"
   ]
  },
  {
   "cell_type": "markdown",
   "metadata": {},
   "source": [
    "### Sliding Window (csúszóablak) módszer, token hossz átfedéssel\n",
    "\n",
    "- **Hivatkozás:** Beltagy, I., Peters, M. E., & Cohan, A. (2020). Longformer: The long-document transformer. arXiv preprint arXiv:2004.05150. https://arxiv.org/abs/2004.05150\n",
    "- **Állítás:** Az idézet alátámasztja a csúszóablakos módszert, amely csökkenti a hosszú szövegek feldolgozásának költségeit, miközben megőrzi a szöveg összefüggését, és a dokumentum több ezer tokenes feldolgozását is lehetővé teszi."
   ]
  },
  {
   "cell_type": "code",
   "execution_count": null,
   "metadata": {},
   "outputs": [],
   "source": [
    "# Function to create sliding window chunks based on tokens\n",
    "def create_token_based_chunks_with_sliding_window(texts, chunk_size=token_sliding_window_size, overlap=token_sliding_window_overlap):\n",
    "    chunks = []\n",
    "    stride = chunk_size - overlap  # Calculate the stride based on chunk size and overlap\n",
    "    for text in tqdm(texts, desc=\"Creating chunks\"):\n",
    "        tokens = tokenizer.tokenize(text, max_length=fixedlength_chunk_max_length, truncation=True)  # Tokenize the text using Hugging Face tokenizer\n",
    "        for i in range(0, len(tokens), stride):\n",
    "            chunk_tokens = tokens[i:i + chunk_size]  # Select tokens within the window size\n",
    "            chunk = tokenizer.convert_tokens_to_string(chunk_tokens)  # Convert tokens back to string\n",
    "            chunks.append(Document(text=chunk))  # Store the chunk as a Document\n",
    "    return chunks\n",
    "\n",
    "# Extract the 'answer' column from the loaded data\n",
    "texts = medquadcsv['answer'].tolist()\n",
    "\n",
    "# Create token-based chunks using sliding window\n",
    "document_chunks_sliding_window_chunk_based = create_token_based_chunks_with_sliding_window(texts)\n",
    "\n",
    "# Create a VectorStoreIndex from the document chunks\n",
    "index_sliding_window_chunk_based = VectorStoreIndex.from_documents(document_chunks_sliding_window_chunk_based, show_progress=True)\n",
    "\n",
    "index_sliding_window_chunk_based.storage_context.persist()\n",
    "\n",
    "# Set up the query engine\n",
    "query_engine_sliding_window_chunk_based = index_sliding_window_chunk_based.as_query_engine()\n",
    "\n",
    "CreateQueries(query_engine_sliding_window_chunk_based)"
   ]
  },
  {
   "cell_type": "markdown",
   "metadata": {},
   "source": [
    "###  Mondat- vagy bekezdés-alapú darabolás (Sentence/Paragraph-based chunking)\n",
    "\n",
    "- **Hivatkozás:** Kwiatkowski, T., Palomaki, J., Redfield, O., Collins, M., Parikh, A., Alberti, C., ... & Petrov, S. (2019). Natural questions: A benchmark for question answering research. Transactions of the Association for Computational Linguistics, 7, 453-466. https://doi.org/10.1162/tacl_a_00276\n",
    "- **Állítás:** Itt a mondat- és bekezdés-alapú chunking módszer a kérdés-válasz rendszerek fejlesztésében alkalmazott módszert illusztrálja, amely függetlenül kezeli a hosszú és rövid válaszokat a dokumentumból kinyert mondat- vagy bekezdésszintű egységek alapján."
   ]
  },
  {
   "cell_type": "code",
   "execution_count": null,
   "metadata": {},
   "outputs": [],
   "source": [
    "# Function to create sentence-based chunks\n",
    "def create_sentence_based_chunks(texts):\n",
    "    chunks = []\n",
    "    for text in tqdm(texts, desc=\"Creating sentence chunks\"):\n",
    "        # Simple sentence splitting based on common delimiters\n",
    "        sentences = sent_tokenize(text)\n",
    "        #sentences = text.replace('!', '.').replace('?', '.').split('.')  # Replace punctuation and split\n",
    "        for sentence in sentences:\n",
    "            sentence = sentence.strip()  # Remove leading/trailing whitespace\n",
    "            if sentence:  # Ensure the sentence is not empty\n",
    "                chunks.append(Document(text=sentence))  # Store each sentence as a Document\n",
    "    return chunks\n",
    "\n",
    "# Extract the 'answer' column from the loaded data\n",
    "texts = medquadcsv['answer'].tolist()\n",
    "\n",
    "# Create chunks from the 'answer' column text\n",
    "document_chunks_sentence_based = create_sentence_based_chunks(texts)\n",
    "\n",
    "# Create a VectorStoreIndex from the document chunks\n",
    "index_sentence_based = VectorStoreIndex.from_documents(document_chunks_sentence_based, show_progress=True)\n",
    "\n",
    "index_sentence_based.storage_context.persist(\"../data/vectors/sentence_based\")\n",
    "\n",
    "# Set up the query engine\n",
    "query_engine_sentence_based = index_sentence_based.as_query_engine()\n",
    "\n",
    "# CreateQueries(query_engine_sentence_based)"
   ]
  },
  {
   "cell_type": "markdown",
   "metadata": {},
   "source": [
    "### Sliding Window (csúszóablak) módszer, mondatonként\n",
    "\n",
    "- **Hivatkozás:** Beltagy, I., Peters, M. E., & Cohan, A. (2020). Longformer: The long-document transformer. arXiv preprint arXiv:2004.05150. https://arxiv.org/abs/2004.05150\n",
    "- **Állítás:** Az idézet alátámasztja a csúszóablakos módszert, amely csökkenti a hosszú szövegek feldolgozásának költségeit, miközben megőrzi a szöveg összefüggését, és a dokumentum több ezer tokenes feldolgozását is lehetővé teszi."
   ]
  },
  {
   "cell_type": "code",
   "execution_count": null,
   "metadata": {},
   "outputs": [],
   "source": [
    "# Function to create sentence-based chunks with sliding window\n",
    "def create_sliding_window_chunks(texts, window_size=sentence_sliding_window_size, stride=sentence_sliding_window_overlap):\n",
    "    chunks = []\n",
    "    for text in tqdm(texts, desc=\"Creating sentence chunks\"):\n",
    "        # Simple sentence splitting based on common delimiters\n",
    "        # sentences = text.replace('!', '.').replace('?', '.').split('.')  # Replace punctuation and split into sentences\n",
    "        sentences = sent_tokenize(text)\n",
    "        sentences = [sentence.strip() for sentence in sentences if sentence]  # Clean up empty and whitespace sentences\n",
    "        \n",
    "        # Apply sliding window\n",
    "        for i in range(0, len(sentences), stride):\n",
    "            window_sentences = sentences[i:i + window_size]  # Select a window of sentences\n",
    "            if window_sentences:  # If the window has sentences\n",
    "                chunk = ' '.join(window_sentences)  # Join the sentences to form a chunk\n",
    "                chunks.append(Document(text=chunk))  # Store each chunk as a Document\n",
    "    return chunks\n",
    "\n",
    "# Extract the 'answer' column from the loaded data\n",
    "texts = medquadcsv['answer'].tolist()\n",
    "\n",
    "# Create sliding window chunks from the 'answer' column text\n",
    "document_chunks_sliding_window_sentence_based = create_sliding_window_chunks(texts)\n",
    "\n",
    "# Create a VectorStoreIndex from the document chunks\n",
    "index_sliding_window_sentence_based = VectorStoreIndex.from_documents(document_chunks_sliding_window_sentence_based, show_progress=True)\n",
    "\n",
    "index_sliding_window_sentence_based.storage_context.persist()\n",
    "\n",
    "# Set up the query engine\n",
    "query_engine_sliding_window_sentence_based = index_sliding_window_sentence_based.as_query_engine()\n",
    "\n",
    "CreateQueries(query_engine_sliding_window_sentence_based)"
   ]
  },
  {
   "cell_type": "markdown",
   "metadata": {},
   "source": [
    "### Hierarchikus chunking\n",
    "\n",
    "- **Hivatkozás:** Luong, T., Pham, H., & Manning, C. D. (2015). Effective approaches to attention-based neural machine translation. In Proceedings of the 2015 Conference on Empirical Methods in Natural Language Processing (pp. 1412-1421). https://doi.org/10.18653/v1/D15-1166\n",
    "- **Állítás:** A hierarchikus chunking megközelítés itt úgy jelenik meg, hogy a figyelmet több szinten alkalmazzák (szó- és mondatszinten), ami lehetővé teszi a modellek számára, hogy a különböző szintű kontextusokat figyelembe vegyék a szövegek feldolgozása során."
   ]
  },
  {
   "cell_type": "code",
   "execution_count": null,
   "metadata": {},
   "outputs": [],
   "source": [
    "def create_hierarchical_chunks_2_levels(texts):\n",
    "    top_level_chunks = create_fixed_length_chunks_with_tokenizer(texts)  # First-level chunking based on tokens\n",
    "    hierarchical_chunks = []\n",
    "    \n",
    "    for chunk in top_level_chunks:\n",
    "        chunk_text = chunk.text  # Text of the first-level chunks\n",
    "        sentence_based_chunks = create_sentence_based_chunks([chunk_text])  # Second-level chunking based on sentences\n",
    "        hierarchical_chunks.extend(sentence_based_chunks)  # Collect sentence-based chunks\n",
    "    \n",
    "    return hierarchical_chunks\n",
    "\n",
    "# Extract the 'answer' column from the loaded data\n",
    "texts = medquadcsv['answer'].tolist()\n",
    "\n",
    "# Create hierarchical chunks from the 'answer' column text\n",
    "document_chunks_hierarchical = create_hierarchical_chunks_2_levels(texts)\n",
    "\n",
    "# Create a VectorStoreIndex from the hierarchical chunks\n",
    "index_hierarchical_2_levels = VectorStoreIndex.from_documents(document_chunks_hierarchical, show_progress=True)\n",
    "\n",
    "index_hierarchical_2_levels.storage_context.persist()\n",
    "\n",
    "# Set up the query engine\n",
    "query_engine_hierarchical_2_levels = index_hierarchical_2_levels.as_query_engine()\n",
    "\n",
    "CreateQueries(query_engine_hierarchical_2_levels)"
   ]
  },
  {
   "cell_type": "code",
   "execution_count": null,
   "metadata": {},
   "outputs": [],
   "source": [
    "def create_hierarchical_chunks_3_levels(texts):\n",
    "    top_level_chunks = create_fixed_length_chunks_with_tokenizer(texts )# First level: Chunking based on tokens (fixed length chunks)\n",
    "    hierarchical_chunks = []\n",
    "    \n",
    "    # Second level: Further chunking each token-based chunk into sentences\n",
    "    for chunk in top_level_chunks:\n",
    "        chunk_text = chunk.text  # Text of the first-level chunks\n",
    "        sentence_based_chunks = create_sentence_based_chunks([chunk_text])  # Second-level chunking based on sentences\n",
    "        \n",
    "        # Third level: Apply sliding window on sentence chunks\n",
    "        for sentence_chunk in sentence_based_chunks:\n",
    "            sentence_chunk_text = sentence_chunk.text  # Text of the second-level (sentence-based) chunks\n",
    "            sliding_window_chunks = create_sliding_window_chunks([sentence_chunk_text])  # Third-level chunking with sliding window\n",
    "            hierarchical_chunks.extend(sliding_window_chunks)  # Collect all sliding window-based chunks\n",
    "\n",
    "    return hierarchical_chunks\n",
    "\n",
    "# Extract the 'answer' column from the loaded data\n",
    "texts = medquadcsv['answer'].tolist()\n",
    "\n",
    "# Create three-level hierarchical chunks from the 'answer' column text\n",
    "document_chunks_hierarchical_3_levels = create_hierarchical_chunks_3_levels(texts)\n",
    "\n",
    "# Create a VectorStoreIndex from the three-level hierarchical chunks\n",
    "index_hierarchical_3_levels = VectorStoreIndex.from_documents(document_chunks_hierarchical_3_levels, show_progress=True)\n",
    "\n",
    "index_hierarchical_3_levels.storage_context.persist()\n",
    "\n",
    "# Set up the query engine\n",
    "query_engine_hierarchical_3_levels = index_hierarchical_3_levels.as_query_engine()\n",
    "\n",
    "CreateQueries(query_engine_hierarchical_3_levels)"
   ]
  },
  {
   "cell_type": "markdown",
   "metadata": {},
   "source": [
    "### Dinamikus chunking tokenlimittel\n",
    "\n",
    "- **Hivatkozás:** Brown, T. B., Mann, B., Ryder, N., Subbiah, M., Kaplan, J., Dhariwal, P., ... & Amodei, D. (2020). Language models are few-shot learners. Advances in Neural Information Processing Systems, 33, 1877-1901. https://arxiv.org/abs/2005.14165\n",
    "- **Állítás:** A dinamikus chunking módszer ebben a kontextusban figyelmet fordít arra, hogy a természetes mondathatárok mentén darabolja fel a szöveget, így a GPT-3 modell optimálisan használja a 2048 tokenes kontextusablakát anélkül, hogy fontos információkat truncálna."
   ]
  },
  {
   "cell_type": "code",
   "execution_count": null,
   "metadata": {},
   "outputs": [],
   "source": [
    "# addig teszi a mondatokat ameddig a vektora eléggé hasonlit az előzőig, mennyire hasonlit? 0.75\n",
    "# engedjük el :("
   ]
  }
 ],
 "metadata": {
  "kernelspec": {
   "display_name": "Python 3",
   "language": "python",
   "name": "python3"
  },
  "language_info": {
   "codemirror_mode": {
    "name": "ipython",
    "version": 3
   },
   "file_extension": ".py",
   "mimetype": "text/x-python",
   "name": "python",
   "nbconvert_exporter": "python",
   "pygments_lexer": "ipython3",
   "version": "3.11.9"
  }
 },
 "nbformat": 4,
 "nbformat_minor": 2
}
