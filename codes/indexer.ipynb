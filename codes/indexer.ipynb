{
 "cells": [
  {
   "cell_type": "markdown",
   "metadata": {},
   "source": [
    "# Indexer pipeline"
   ]
  },
  {
   "cell_type": "markdown",
   "metadata": {},
   "source": [
    "## Import dependecies"
   ]
  },
  {
   "cell_type": "code",
   "metadata": {},
   "source": [
    "import pandas as pd\n",
    "from llama_index.core import Settings, VectorStoreIndex, Document\n",
    "from llama_index.embeddings.huggingface import HuggingFaceEmbedding\n",
    "from transformers import AutoTokenizer\n",
    "\n",
    "import nltk\n",
    "from nltk.tokenize import sent_tokenize\n",
    "nltk.download('punkt_tab')\n",
    "\n",
    "from tqdm import tqdm"
   ],
   "outputs": [],
   "execution_count": null
  },
  {
   "cell_type": "markdown",
   "metadata": {},
   "source": [
    "## Load Data"
   ]
  },
  {
   "cell_type": "code",
   "metadata": {},
   "source": [
    "dir_data_original = \"../data/\"\n",
    "\n",
    "dir_data_json = f\"E:/GitHub repositories/data-indexer/data/validations/mqdquad.json\"\n",
    "dir_data_csv = f\"E:/GitHub repositories/data-indexer/data/validations/mqdquad.csv\""
   ],
   "outputs": [],
   "execution_count": null
  },
  {
   "metadata": {},
   "cell_type": "markdown",
   "source": "### Variables"
  },
  {
   "metadata": {},
   "cell_type": "code",
   "source": [
    "test_file_size = 50\n",
    "\n",
    "fixedlength_chunk_size = 512\n",
    "fixedlength_chunk_max_length = 1024\n",
    "\n",
    "# token-based sliding window\n",
    "# 128 - 64 - 32 - 16\n",
    "# 50% overlap okés, de lehetne 25% is\n",
    "# 64 - 16, 32 - 8, 16 - 4, 8 - 2\n",
    "\n",
    "token_sliding_window_size = 128\n",
    "token_sliding_window_overlap = 64\n",
    "\n",
    "sentence_sliding_window_size = 5\n",
    "sentence_sliding_window_overlap = 3"
   ],
   "outputs": [],
   "execution_count": null
  },
  {
   "cell_type": "markdown",
   "metadata": {},
   "source": [
    "### Load Validation Dataset (MedQuAD)"
   ]
  },
  {
   "cell_type": "code",
   "metadata": {},
   "source": [
    "medquad = pd.read_json(dir_data_json, orient=\"records\")\n",
    "\n",
    "medquad['answer'].to_csv(dir_data_csv, index=False)\n",
    "\n",
    "medquadcsv = pd.read_csv(dir_data_csv)\n",
    "\n",
    "medquadcsv = medquadcsv[:test_file_size]\n",
    "\n",
    "medquadcsv.info()\n",
    "#medquadcsv.head(10)\n",
    "\n",
    "# Set LLM to None\n",
    "Settings.llm = None\n",
    "\n",
    "# Set Hugging Face embedding model for LlamaIndex\n",
    "Settings.embed_model = HuggingFaceEmbedding(model_name=\"sentence-transformers/all-MiniLM-L12-v2\")\n",
    "\n",
    "# Hugging Face tokenizer setup\n",
    "tokenizer = AutoTokenizer.from_pretrained('bert-base-uncased')"
   ],
   "outputs": [],
   "execution_count": null
  },
  {
   "cell_type": "markdown",
   "metadata": {},
   "source": [
    "### Load Publications"
   ]
  },
  {
   "cell_type": "markdown",
   "metadata": {},
   "source": [
    "### Load Sensors"
   ]
  },
  {
   "cell_type": "markdown",
   "metadata": {},
   "source": "## Index Data"
  },
  {
   "metadata": {},
   "cell_type": "markdown",
   "source": "### Functions"
  },
  {
   "metadata": {},
   "cell_type": "code",
   "source": [
    "def CreateQueries(query_engine):\n",
    "    # Define your queries\n",
    "    queries = [\n",
    "        \"What is (are) keratoderma with woolly hair?\",\n",
    "        \"How many people are affected by keratoderma with woolly hair?\",\n",
    "        \"What are the genetic changes related to keratoderma with woolly hair?\",\n",
    "        \"Is keratoderma with woolly hair inherited?\",\n",
    "        \"What are the treatments for keratoderma with woolly hair?\",\n",
    "        \"What is (are) Knobloch syndrome?\",\n",
    "        \"How many people are affected by Knobloch syndrome?\",\n",
    "        \"What are the genetic changes related to Knobloch syndrome?\"\n",
    "    ]\n",
    "\n",
    "    # Iterate through the queries and print responses\n",
    "    for query in queries:\n",
    "        response = query_engine.query(query)\n",
    "        print(f\"Query: {query}\\nResponse: {response}\\n\")"
   ],
   "outputs": [],
   "execution_count": null
  },
  {
   "cell_type": "markdown",
   "metadata": {},
   "source": [
    "### Rögzített hosszúságú chunk-ok (Fixed-length chunking)\n",
    "\n",
    "- **Hivatkozás:** Devlin, J., Chang, M. W., Lee, K., & Toutanova, K. (2019). BERT: Pre-training of deep bidirectional transformers for language understanding. In Proceedings of the 2019 Conference of the North American Chapter of the Association for Computational Linguistics: Human Language Technologies (pp. 4171-4186). https://doi.org/10.18653/v1/N19-1423\n",
    "- **Állítás:** A rögzített hosszúságú chunk-ok használata gyakori a BERT alapú modellekben, ahol a dokumentumokat egy meghatározott hosszúságú (512 tokenes) egységekbe bontják."
   ]
  },
  {
   "metadata": {},
   "cell_type": "code",
   "source": [
    "# Function to create fixed-length chunks using tokenizer\n",
    "def create_fixed_length_chunks_with_tokenizer(texts, chunk_size=fixedlength_chunk_size):\n",
    "    chunks = []\n",
    "    for text in tqdm(texts, desc=\"Creating chunks\"):\n",
    "        tokens = tokenizer.tokenize(text, max_length=fixedlength_chunk_max_length, truncation=True)  # Tokenize the text using Hugging Face tokenizer\n",
    "        for i in range(0, len(tokens), chunk_size):\n",
    "            chunk_tokens = tokens[i:i + chunk_size]\n",
    "            chunk = tokenizer.convert_tokens_to_string(chunk_tokens)\n",
    "            chunks.append(Document(text=chunk)) # Store the chunk as a Document\n",
    "    return chunks\n",
    "\n",
    "# Extract the 'answer' column from the loaded data\n",
    "texts = medquadcsv['answer'].tolist()\n",
    "\n",
    "# Create chunks from the 'answer' column text\n",
    "document_chunks_fixed_length = create_fixed_length_chunks_with_tokenizer(texts)\n",
    "\n",
    "# Create a VectorStoreIndex from the document chunks\n",
    "index_fixed_length = VectorStoreIndex.from_documents(document_chunks_fixed_length, show_progress=True)\n",
    "\n",
    "index_fixed_length.storage_context.persist()\n",
    "\n",
    "# Set up the query engine\n",
    "query_engine_fixed_length = index_fixed_length.as_query_engine()\n",
    "\n",
    "CreateQueries(query_engine_fixed_length)"
   ],
   "outputs": [],
   "execution_count": null
  },
  {
   "metadata": {},
   "cell_type": "markdown",
   "source": [
    "### Sliding Window (csúszóablak) módszer, token hossz átfedéssel\n",
    "\n",
    "- **Hivatkozás:** Beltagy, I., Peters, M. E., & Cohan, A. (2020). Longformer: The long-document transformer. arXiv preprint arXiv:2004.05150. https://arxiv.org/abs/2004.05150\n",
    "- **Állítás:** Az idézet alátámasztja a csúszóablakos módszert, amely csökkenti a hosszú szövegek feldolgozásának költségeit, miközben megőrzi a szöveg összefüggését, és a dokumentum több ezer tokenes feldolgozását is lehetővé teszi."
   ]
  },
  {
   "metadata": {},
   "cell_type": "code",
   "source": [
    "# Function to create sliding window chunks based on tokens\n",
    "def create_token_based_chunks_with_sliding_window(texts, chunk_size=token_sliding_window_size, overlap=token_sliding_window_overlap):\n",
    "    chunks = []\n",
    "    stride = chunk_size - overlap  # Calculate the stride based on chunk size and overlap\n",
    "    for text in tqdm(texts, desc=\"Creating chunks\"):\n",
    "        tokens = tokenizer.tokenize(text, max_length=fixedlength_chunk_max_length, truncation=True)  # Tokenize the text using Hugging Face tokenizer\n",
    "        for i in range(0, len(tokens), stride):\n",
    "            chunk_tokens = tokens[i:i + chunk_size]  # Select tokens within the window size\n",
    "            chunk = tokenizer.convert_tokens_to_string(chunk_tokens)  # Convert tokens back to string\n",
    "            chunks.append(Document(text=chunk))  # Store the chunk as a Document\n",
    "    return chunks\n",
    "\n",
    "# Extract the 'answer' column from the loaded data\n",
    "texts = medquadcsv['answer'].tolist()\n",
    "\n",
    "# Create token-based chunks using sliding window\n",
    "document_chunks_sliding_window_chunk_based = create_token_based_chunks_with_sliding_window(texts)\n",
    "\n",
    "# Create a VectorStoreIndex from the document chunks\n",
    "index_sliding_window_chunk_based = VectorStoreIndex.from_documents(document_chunks_sliding_window_chunk_based, show_progress=True)\n",
    "\n",
    "index_sliding_window_chunk_based.storage_context.persist()\n",
    "\n",
    "# Set up the query engine\n",
    "query_engine_sliding_window_chunk_based = index_sliding_window_chunk_based.as_query_engine()\n",
    "\n",
    "CreateQueries(query_engine_sliding_window_chunk_based)"
   ],
   "outputs": [],
   "execution_count": null
  },
  {
   "cell_type": "markdown",
   "metadata": {},
   "source": [
    "###  Mondat- vagy bekezdés-alapú darabolás (Sentence/Paragraph-based chunking)\n",
    "\n",
    "- **Hivatkozás:** Kwiatkowski, T., Palomaki, J., Redfield, O., Collins, M., Parikh, A., Alberti, C., ... & Petrov, S. (2019). Natural questions: A benchmark for question answering research. Transactions of the Association for Computational Linguistics, 7, 453-466. https://doi.org/10.1162/tacl_a_00276\n",
    "- **Állítás:** Itt a mondat- és bekezdés-alapú chunking módszer a kérdés-válasz rendszerek fejlesztésében alkalmazott módszert illusztrálja, amely függetlenül kezeli a hosszú és rövid válaszokat a dokumentumból kinyert mondat- vagy bekezdésszintű egységek alapján."
   ]
  },
  {
   "cell_type": "code",
   "metadata": {},
   "source": [
    "# Function to create sentence-based chunks\n",
    "def create_sentence_based_chunks(texts):\n",
    "    chunks = []\n",
    "    for text in tqdm(texts, desc=\"Creating sentence chunks\"):\n",
    "        # Simple sentence splitting based on common delimiters\n",
    "        sentences = sent_tokenize(text)\n",
    "        #sentences = text.replace('!', '.').replace('?', '.').split('.')  # Replace punctuation and split\n",
    "        for sentence in sentences:\n",
    "            sentence = sentence.strip()  # Remove leading/trailing whitespace\n",
    "            if sentence:  # Ensure the sentence is not empty\n",
    "                chunks.append(Document(text=sentence))  # Store each sentence as a Document\n",
    "    return chunks\n",
    "\n",
    "# Extract the 'answer' column from the loaded data\n",
    "texts = medquadcsv['answer'].tolist()\n",
    "\n",
    "# Create chunks from the 'answer' column text\n",
    "document_chunks_sentence_based = create_sentence_based_chunks(texts)\n",
    "\n",
    "# Create a VectorStoreIndex from the document chunks\n",
    "index_sentence_based = VectorStoreIndex.from_documents(document_chunks_sentence_based, show_progress=True)\n",
    "\n",
    "index_sentence_based.storage_context.persist()\n",
    "\n",
    "# Set up the query engine\n",
    "query_engine_sentence_based = index_sentence_based.as_query_engine()\n",
    "\n",
    "CreateQueries(query_engine_sentence_based)"
   ],
   "outputs": [],
   "execution_count": null
  },
  {
   "cell_type": "markdown",
   "metadata": {},
   "source": [
    "### Sliding Window (csúszóablak) módszer, mondatonként\n",
    "\n",
    "- **Hivatkozás:** Beltagy, I., Peters, M. E., & Cohan, A. (2020). Longformer: The long-document transformer. arXiv preprint arXiv:2004.05150. https://arxiv.org/abs/2004.05150\n",
    "- **Állítás:** Az idézet alátámasztja a csúszóablakos módszert, amely csökkenti a hosszú szövegek feldolgozásának költségeit, miközben megőrzi a szöveg összefüggését, és a dokumentum több ezer tokenes feldolgozását is lehetővé teszi."
   ]
  },
  {
   "cell_type": "code",
   "metadata": {},
   "source": [
    "# Function to create sentence-based chunks with sliding window\n",
    "def create_sliding_window_chunks(texts, window_size=sentence_sliding_window_size, stride=sentence_sliding_window_overlap):\n",
    "    chunks = []\n",
    "    for text in tqdm(texts, desc=\"Creating sentence chunks\"):\n",
    "        # Simple sentence splitting based on common delimiters\n",
    "        # sentences = text.replace('!', '.').replace('?', '.').split('.')  # Replace punctuation and split into sentences\n",
    "        sentences = sent_tokenize(text)\n",
    "        sentences = [sentence.strip() for sentence in sentences if sentence]  # Clean up empty and whitespace sentences\n",
    "        \n",
    "        # Apply sliding window\n",
    "        for i in range(0, len(sentences), stride):\n",
    "            window_sentences = sentences[i:i + window_size]  # Select a window of sentences\n",
    "            if window_sentences:  # If the window has sentences\n",
    "                chunk = ' '.join(window_sentences)  # Join the sentences to form a chunk\n",
    "                chunks.append(Document(text=chunk))  # Store each chunk as a Document\n",
    "    return chunks\n",
    "\n",
    "# Extract the 'answer' column from the loaded data\n",
    "texts = medquadcsv['answer'].tolist()\n",
    "\n",
    "# Create sliding window chunks from the 'answer' column text\n",
    "document_chunks_sliding_window_sentence_based = create_sliding_window_chunks(texts)\n",
    "\n",
    "# Create a VectorStoreIndex from the document chunks\n",
    "index_sliding_window_sentence_based = VectorStoreIndex.from_documents(document_chunks_sliding_window_sentence_based, show_progress=True)\n",
    "\n",
    "index_sliding_window_sentence_based.storage_context.persist()\n",
    "\n",
    "# Set up the query engine\n",
    "query_engine_sliding_window_sentence_based = index_sliding_window_sentence_based.as_query_engine()\n",
    "\n",
    "CreateQueries(query_engine_sliding_window_sentence_based)"
   ],
   "outputs": [],
   "execution_count": null
  },
  {
   "cell_type": "markdown",
   "metadata": {},
   "source": [
    "### Hierarchikus chunking\n",
    "\n",
    "- **Hivatkozás:** Luong, T., Pham, H., & Manning, C. D. (2015). Effective approaches to attention-based neural machine translation. In Proceedings of the 2015 Conference on Empirical Methods in Natural Language Processing (pp. 1412-1421). https://doi.org/10.18653/v1/D15-1166\n",
    "- **Állítás:** A hierarchikus chunking megközelítés itt úgy jelenik meg, hogy a figyelmet több szinten alkalmazzák (szó- és mondatszinten), ami lehetővé teszi a modellek számára, hogy a különböző szintű kontextusokat figyelembe vegyék a szövegek feldolgozása során."
   ]
  },
  {
   "metadata": {},
   "cell_type": "code",
   "source": [
    "def create_hierarchical_chunks_2_levels(texts):\n",
    "    top_level_chunks = create_fixed_length_chunks_with_tokenizer(texts)  # First-level chunking based on tokens\n",
    "    hierarchical_chunks = []\n",
    "    \n",
    "    for chunk in top_level_chunks:\n",
    "        chunk_text = chunk.text  # Text of the first-level chunks\n",
    "        sentence_based_chunks = create_sentence_based_chunks([chunk_text])  # Second-level chunking based on sentences\n",
    "        hierarchical_chunks.extend(sentence_based_chunks)  # Collect sentence-based chunks\n",
    "    \n",
    "    return hierarchical_chunks\n",
    "\n",
    "# Extract the 'answer' column from the loaded data\n",
    "texts = medquadcsv['answer'].tolist()\n",
    "\n",
    "# Create hierarchical chunks from the 'answer' column text\n",
    "document_chunks_hierarchical = create_hierarchical_chunks_2_levels(texts)\n",
    "\n",
    "# Create a VectorStoreIndex from the hierarchical chunks\n",
    "index_hierarchical_2_levels = VectorStoreIndex.from_documents(document_chunks_hierarchical, show_progress=True)\n",
    "\n",
    "index_hierarchical_2_levels.storage_context.persist()\n",
    "\n",
    "# Set up the query engine\n",
    "query_engine_hierarchical_2_levels = index_hierarchical_2_levels.as_query_engine()\n",
    "\n",
    "CreateQueries(query_engine_hierarchical_2_levels)"
   ],
   "outputs": [],
   "execution_count": null
  },
  {
   "metadata": {},
   "cell_type": "code",
   "source": [
    "def create_hierarchical_chunks_3_levels(texts):\n",
    "    top_level_chunks = create_fixed_length_chunks_with_tokenizer(texts )# First level: Chunking based on tokens (fixed length chunks)\n",
    "    hierarchical_chunks = []\n",
    "    \n",
    "    # Second level: Further chunking each token-based chunk into sentences\n",
    "    for chunk in top_level_chunks:\n",
    "        chunk_text = chunk.text  # Text of the first-level chunks\n",
    "        sentence_based_chunks = create_sentence_based_chunks([chunk_text])  # Second-level chunking based on sentences\n",
    "        \n",
    "        # Third level: Apply sliding window on sentence chunks\n",
    "        for sentence_chunk in sentence_based_chunks:\n",
    "            sentence_chunk_text = sentence_chunk.text  # Text of the second-level (sentence-based) chunks\n",
    "            sliding_window_chunks = create_sliding_window_chunks([sentence_chunk_text])  # Third-level chunking with sliding window\n",
    "            hierarchical_chunks.extend(sliding_window_chunks)  # Collect all sliding window-based chunks\n",
    "\n",
    "    return hierarchical_chunks\n",
    "\n",
    "# Extract the 'answer' column from the loaded data\n",
    "texts = medquadcsv['answer'].tolist()\n",
    "\n",
    "# Create three-level hierarchical chunks from the 'answer' column text\n",
    "document_chunks_hierarchical_3_levels = create_hierarchical_chunks_3_levels(texts)\n",
    "\n",
    "# Create a VectorStoreIndex from the three-level hierarchical chunks\n",
    "index_hierarchical_3_levels = VectorStoreIndex.from_documents(document_chunks_hierarchical_3_levels, show_progress=True)\n",
    "\n",
    "index_hierarchical_3_levels.storage_context.persist()\n",
    "\n",
    "# Set up the query engine\n",
    "query_engine_hierarchical_3_levels = index_hierarchical_3_levels.as_query_engine()\n",
    "\n",
    "CreateQueries(query_engine_hierarchical_3_levels)"
   ],
   "outputs": [],
   "execution_count": null
  },
  {
   "cell_type": "markdown",
   "metadata": {},
   "source": [
    "### Dinamikus chunking tokenlimittel\n",
    "\n",
    "- **Hivatkozás:** Brown, T. B., Mann, B., Ryder, N., Subbiah, M., Kaplan, J., Dhariwal, P., ... & Amodei, D. (2020). Language models are few-shot learners. Advances in Neural Information Processing Systems, 33, 1877-1901. https://arxiv.org/abs/2005.14165\n",
    "- **Állítás:** A dinamikus chunking módszer ebben a kontextusban figyelmet fordít arra, hogy a természetes mondathatárok mentén darabolja fel a szöveget, így a GPT-3 modell optimálisan használja a 2048 tokenes kontextusablakát anélkül, hogy fontos információkat truncálna."
   ]
  },
  {
   "cell_type": "code",
   "metadata": {},
   "source": [
    "# addig teszi a mondatokat ameddig a vektora eléggé hasonlit az előzőig, mennyire hasonlit? 0.75\n",
    "# engedjük el :("
   ],
   "outputs": [],
   "execution_count": null
  }
 ],
 "metadata": {
  "kernelspec": {
   "display_name": "NLP",
   "language": "python",
   "name": "python3"
  },
  "language_info": {
   "codemirror_mode": {
    "name": "ipython",
    "version": 3
   },
   "file_extension": ".py",
   "mimetype": "text/x-python",
   "name": "python",
   "nbconvert_exporter": "python",
   "pygments_lexer": "ipython3",
   "version": "3.11.4"
  }
 },
 "nbformat": 4,
 "nbformat_minor": 2
}
