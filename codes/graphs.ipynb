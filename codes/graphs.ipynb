{
 "cells": [
  {
   "cell_type": "code",
   "execution_count": null,
   "metadata": {},
   "outputs": [],
   "source": [
    "import pandas as pd\n",
    "import matplotlib.pyplot as plt"
   ]
  },
  {
   "cell_type": "code",
   "execution_count": null,
   "metadata": {},
   "outputs": [],
   "source": [
    "dir_data = \"../data/\"\n",
    "\n",
    "df = pd.read_csv(f\"{dir_data}new validation datas/1000_sw_64_32_scores_avg.csv\")"
   ]
  },
  {
   "cell_type": "code",
   "execution_count": null,
   "metadata": {},
   "outputs": [],
   "source": [
    "# Az oszlopnevek, amiket ábrázolni szeretnénk\n",
    "columns = ['rouge1_avg', 'rouge2_avg', 'rougeL_avg', 'rougeLsum_avg', 'meteor_avg', \n",
    "           'bleu_avg', 'precision1_avg', 'precision2_avg', 'precision3_avg', \n",
    "           'precision4_avg', 'brevity_penalty_avg']\n",
    "\n",
    "# Diagramok létrehozása\n",
    "fig, axes = plt.subplots(3, 4, figsize=(15, 12))  # 3x4-es rács\n",
    "fig.suptitle('Metrikák változása a k értékek függvényében')\n",
    "\n",
    "# Minden oszlophoz diagram készítése\n",
    "for i, col in enumerate(columns):\n",
    "    ax = axes[i // 4, i % 4]  # Rács helyének meghatározása\n",
    "    ax.plot(df['k'], df[col], marker='o', color='b')\n",
    "    ax.set_title(col.replace('_avg', '').capitalize())  # Oszlop név (avg nélkül)\n",
    "    ax.set_xlabel('k')\n",
    "    ax.set_ylabel(col.replace('_avg', '').capitalize())  # Oszlop név (avg nélkül)\n",
    "\n",
    "# Layout beállítása\n",
    "plt.tight_layout(rect=[0, 0.03, 1, 0.95])  # A szuper cím ne takarja le a grafikont\n",
    "\n",
    "plt.savefig(f\"{dir_data}new validation datas/graphs/1000_sw_64_8.png\")\n",
    "\n",
    "plt.show()"
   ]
  }
 ],
 "metadata": {
  "kernelspec": {
   "display_name": "Python 3",
   "language": "python",
   "name": "python3"
  },
  "language_info": {
   "codemirror_mode": {
    "name": "ipython",
    "version": 3
   },
   "file_extension": ".py",
   "mimetype": "text/x-python",
   "name": "python",
   "nbconvert_exporter": "python",
   "pygments_lexer": "ipython3",
   "version": "3.11.9"
  }
 },
 "nbformat": 4,
 "nbformat_minor": 2
}
